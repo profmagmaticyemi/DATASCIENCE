{
 "cells": [
  {
   "cell_type": "markdown",
   "metadata": {},
   "source": [
    "**ANALYSIS OF TITANIC DATA SET**\n"
   ]
  },
  {
   "cell_type": "code",
   "execution_count": 5,
   "metadata": {
    "ExecuteTime": {
     "end_time": "2019-08-24T14:22:08.152919Z",
     "start_time": "2019-08-24T14:21:56.154714Z"
    }
   },
   "outputs": [],
   "source": [
    "#import main files\n",
    "import pandas as pd\n",
    "import numpy as np\n",
    "import matplotlib.pyplot as plt\n",
    "import seaborn as sns\n",
    "from sklearn.model_selection import train_test_split, GridSearchCV \n",
    "from sklearn.preprocessing import StandardScaler\n",
    "from sklearn.metrics import classification_report, roc_auc_score, confusion_matrix, roc_curve\n",
    "from sklearn.feature_selection import RFE, RFECV\n",
    "from sklearn.svm import SVC\n",
    "\n",
    "%matplotlib inline"
   ]
  },
  {
   "cell_type": "code",
   "execution_count": 6,
   "metadata": {
    "ExecuteTime": {
     "end_time": "2019-08-24T14:22:08.327655Z",
     "start_time": "2019-08-24T14:22:08.193464Z"
    }
   },
   "outputs": [
    {
     "data": {
      "text/html": [
       "<div>\n",
       "<style scoped>\n",
       "    .dataframe tbody tr th:only-of-type {\n",
       "        vertical-align: middle;\n",
       "    }\n",
       "\n",
       "    .dataframe tbody tr th {\n",
       "        vertical-align: top;\n",
       "    }\n",
       "\n",
       "    .dataframe thead th {\n",
       "        text-align: right;\n",
       "    }\n",
       "</style>\n",
       "<table border=\"1\" class=\"dataframe\">\n",
       "  <thead>\n",
       "    <tr style=\"text-align: right;\">\n",
       "      <th></th>\n",
       "      <th>PassengerId</th>\n",
       "      <th>Survived</th>\n",
       "      <th>Pclass</th>\n",
       "      <th>Name</th>\n",
       "      <th>Sex</th>\n",
       "      <th>Age</th>\n",
       "      <th>SibSp</th>\n",
       "      <th>Parch</th>\n",
       "      <th>Ticket</th>\n",
       "      <th>Fare</th>\n",
       "      <th>Cabin</th>\n",
       "      <th>Embarked</th>\n",
       "    </tr>\n",
       "  </thead>\n",
       "  <tbody>\n",
       "    <tr>\n",
       "      <th>0</th>\n",
       "      <td>1</td>\n",
       "      <td>0</td>\n",
       "      <td>3</td>\n",
       "      <td>Braund, Mr. Owen Harris</td>\n",
       "      <td>male</td>\n",
       "      <td>22.0</td>\n",
       "      <td>1</td>\n",
       "      <td>0</td>\n",
       "      <td>A/5 21171</td>\n",
       "      <td>7.2500</td>\n",
       "      <td>NaN</td>\n",
       "      <td>S</td>\n",
       "    </tr>\n",
       "    <tr>\n",
       "      <th>1</th>\n",
       "      <td>2</td>\n",
       "      <td>1</td>\n",
       "      <td>1</td>\n",
       "      <td>Cumings, Mrs. John Bradley (Florence Briggs Th...</td>\n",
       "      <td>female</td>\n",
       "      <td>38.0</td>\n",
       "      <td>1</td>\n",
       "      <td>0</td>\n",
       "      <td>PC 17599</td>\n",
       "      <td>71.2833</td>\n",
       "      <td>C85</td>\n",
       "      <td>C</td>\n",
       "    </tr>\n",
       "    <tr>\n",
       "      <th>2</th>\n",
       "      <td>3</td>\n",
       "      <td>1</td>\n",
       "      <td>3</td>\n",
       "      <td>Heikkinen, Miss. Laina</td>\n",
       "      <td>female</td>\n",
       "      <td>26.0</td>\n",
       "      <td>0</td>\n",
       "      <td>0</td>\n",
       "      <td>STON/O2. 3101282</td>\n",
       "      <td>7.9250</td>\n",
       "      <td>NaN</td>\n",
       "      <td>S</td>\n",
       "    </tr>\n",
       "    <tr>\n",
       "      <th>3</th>\n",
       "      <td>4</td>\n",
       "      <td>1</td>\n",
       "      <td>1</td>\n",
       "      <td>Futrelle, Mrs. Jacques Heath (Lily May Peel)</td>\n",
       "      <td>female</td>\n",
       "      <td>35.0</td>\n",
       "      <td>1</td>\n",
       "      <td>0</td>\n",
       "      <td>113803</td>\n",
       "      <td>53.1000</td>\n",
       "      <td>C123</td>\n",
       "      <td>S</td>\n",
       "    </tr>\n",
       "    <tr>\n",
       "      <th>4</th>\n",
       "      <td>5</td>\n",
       "      <td>0</td>\n",
       "      <td>3</td>\n",
       "      <td>Allen, Mr. William Henry</td>\n",
       "      <td>male</td>\n",
       "      <td>35.0</td>\n",
       "      <td>0</td>\n",
       "      <td>0</td>\n",
       "      <td>373450</td>\n",
       "      <td>8.0500</td>\n",
       "      <td>NaN</td>\n",
       "      <td>S</td>\n",
       "    </tr>\n",
       "  </tbody>\n",
       "</table>\n",
       "</div>"
      ],
      "text/plain": [
       "   PassengerId  Survived  Pclass  \\\n",
       "0            1         0       3   \n",
       "1            2         1       1   \n",
       "2            3         1       3   \n",
       "3            4         1       1   \n",
       "4            5         0       3   \n",
       "\n",
       "                                                Name     Sex   Age  SibSp  \\\n",
       "0                            Braund, Mr. Owen Harris    male  22.0      1   \n",
       "1  Cumings, Mrs. John Bradley (Florence Briggs Th...  female  38.0      1   \n",
       "2                             Heikkinen, Miss. Laina  female  26.0      0   \n",
       "3       Futrelle, Mrs. Jacques Heath (Lily May Peel)  female  35.0      1   \n",
       "4                           Allen, Mr. William Henry    male  35.0      0   \n",
       "\n",
       "   Parch            Ticket     Fare Cabin Embarked  \n",
       "0      0         A/5 21171   7.2500   NaN        S  \n",
       "1      0          PC 17599  71.2833   C85        C  \n",
       "2      0  STON/O2. 3101282   7.9250   NaN        S  \n",
       "3      0            113803  53.1000  C123        S  \n",
       "4      0            373450   8.0500   NaN        S  "
      ]
     },
     "execution_count": 6,
     "metadata": {},
     "output_type": "execute_result"
    }
   ],
   "source": [
    "titanic = pd.read_csv('titanic.csv')\n",
    "titanic.head()"
   ]
  },
  {
   "cell_type": "code",
   "execution_count": 7,
   "metadata": {
    "ExecuteTime": {
     "end_time": "2019-08-24T14:22:08.456596Z",
     "start_time": "2019-08-24T14:22:08.420528Z"
    }
   },
   "outputs": [
    {
     "data": {
      "text/html": [
       "<div>\n",
       "<style scoped>\n",
       "    .dataframe tbody tr th:only-of-type {\n",
       "        vertical-align: middle;\n",
       "    }\n",
       "\n",
       "    .dataframe tbody tr th {\n",
       "        vertical-align: top;\n",
       "    }\n",
       "\n",
       "    .dataframe thead th {\n",
       "        text-align: right;\n",
       "    }\n",
       "</style>\n",
       "<table border=\"1\" class=\"dataframe\">\n",
       "  <thead>\n",
       "    <tr style=\"text-align: right;\">\n",
       "      <th></th>\n",
       "      <th>count</th>\n",
       "      <th>mean</th>\n",
       "      <th>std</th>\n",
       "      <th>min</th>\n",
       "      <th>25%</th>\n",
       "      <th>50%</th>\n",
       "      <th>75%</th>\n",
       "      <th>max</th>\n",
       "    </tr>\n",
       "  </thead>\n",
       "  <tbody>\n",
       "    <tr>\n",
       "      <th>PassengerId</th>\n",
       "      <td>891.0</td>\n",
       "      <td>446.000000</td>\n",
       "      <td>257.353842</td>\n",
       "      <td>1.00</td>\n",
       "      <td>223.5000</td>\n",
       "      <td>446.0000</td>\n",
       "      <td>668.5</td>\n",
       "      <td>891.0000</td>\n",
       "    </tr>\n",
       "    <tr>\n",
       "      <th>Survived</th>\n",
       "      <td>891.0</td>\n",
       "      <td>0.383838</td>\n",
       "      <td>0.486592</td>\n",
       "      <td>0.00</td>\n",
       "      <td>0.0000</td>\n",
       "      <td>0.0000</td>\n",
       "      <td>1.0</td>\n",
       "      <td>1.0000</td>\n",
       "    </tr>\n",
       "    <tr>\n",
       "      <th>Pclass</th>\n",
       "      <td>891.0</td>\n",
       "      <td>2.308642</td>\n",
       "      <td>0.836071</td>\n",
       "      <td>1.00</td>\n",
       "      <td>2.0000</td>\n",
       "      <td>3.0000</td>\n",
       "      <td>3.0</td>\n",
       "      <td>3.0000</td>\n",
       "    </tr>\n",
       "    <tr>\n",
       "      <th>Age</th>\n",
       "      <td>714.0</td>\n",
       "      <td>29.699118</td>\n",
       "      <td>14.526497</td>\n",
       "      <td>0.42</td>\n",
       "      <td>20.1250</td>\n",
       "      <td>28.0000</td>\n",
       "      <td>38.0</td>\n",
       "      <td>80.0000</td>\n",
       "    </tr>\n",
       "    <tr>\n",
       "      <th>SibSp</th>\n",
       "      <td>891.0</td>\n",
       "      <td>0.523008</td>\n",
       "      <td>1.102743</td>\n",
       "      <td>0.00</td>\n",
       "      <td>0.0000</td>\n",
       "      <td>0.0000</td>\n",
       "      <td>1.0</td>\n",
       "      <td>8.0000</td>\n",
       "    </tr>\n",
       "    <tr>\n",
       "      <th>Parch</th>\n",
       "      <td>891.0</td>\n",
       "      <td>0.381594</td>\n",
       "      <td>0.806057</td>\n",
       "      <td>0.00</td>\n",
       "      <td>0.0000</td>\n",
       "      <td>0.0000</td>\n",
       "      <td>0.0</td>\n",
       "      <td>6.0000</td>\n",
       "    </tr>\n",
       "    <tr>\n",
       "      <th>Fare</th>\n",
       "      <td>891.0</td>\n",
       "      <td>32.204208</td>\n",
       "      <td>49.693429</td>\n",
       "      <td>0.00</td>\n",
       "      <td>7.9104</td>\n",
       "      <td>14.4542</td>\n",
       "      <td>31.0</td>\n",
       "      <td>512.3292</td>\n",
       "    </tr>\n",
       "  </tbody>\n",
       "</table>\n",
       "</div>"
      ],
      "text/plain": [
       "             count        mean         std   min       25%       50%    75%  \\\n",
       "PassengerId  891.0  446.000000  257.353842  1.00  223.5000  446.0000  668.5   \n",
       "Survived     891.0    0.383838    0.486592  0.00    0.0000    0.0000    1.0   \n",
       "Pclass       891.0    2.308642    0.836071  1.00    2.0000    3.0000    3.0   \n",
       "Age          714.0   29.699118   14.526497  0.42   20.1250   28.0000   38.0   \n",
       "SibSp        891.0    0.523008    1.102743  0.00    0.0000    0.0000    1.0   \n",
       "Parch        891.0    0.381594    0.806057  0.00    0.0000    0.0000    0.0   \n",
       "Fare         891.0   32.204208   49.693429  0.00    7.9104   14.4542   31.0   \n",
       "\n",
       "                  max  \n",
       "PassengerId  891.0000  \n",
       "Survived       1.0000  \n",
       "Pclass         3.0000  \n",
       "Age           80.0000  \n",
       "SibSp          8.0000  \n",
       "Parch          6.0000  \n",
       "Fare         512.3292  "
      ]
     },
     "execution_count": 7,
     "metadata": {},
     "output_type": "execute_result"
    }
   ],
   "source": [
    "titanic.describe().T"
   ]
  },
  {
   "cell_type": "code",
   "execution_count": 8,
   "metadata": {
    "ExecuteTime": {
     "end_time": "2019-08-24T14:22:08.509407Z",
     "start_time": "2019-08-24T14:22:08.501416Z"
    }
   },
   "outputs": [
    {
     "data": {
      "text/plain": [
       "(891, 12)"
      ]
     },
     "execution_count": 8,
     "metadata": {},
     "output_type": "execute_result"
    }
   ],
   "source": [
    "titanic.shape"
   ]
  },
  {
   "cell_type": "code",
   "execution_count": 9,
   "metadata": {
    "ExecuteTime": {
     "end_time": "2019-08-24T14:22:08.568869Z",
     "start_time": "2019-08-24T14:22:08.557667Z"
    }
   },
   "outputs": [
    {
     "name": "stdout",
     "output_type": "stream",
     "text": [
      "<class 'pandas.core.frame.DataFrame'>\n",
      "RangeIndex: 891 entries, 0 to 890\n",
      "Data columns (total 12 columns):\n",
      "PassengerId    891 non-null int64\n",
      "Survived       891 non-null int64\n",
      "Pclass         891 non-null int64\n",
      "Name           891 non-null object\n",
      "Sex            891 non-null object\n",
      "Age            714 non-null float64\n",
      "SibSp          891 non-null int64\n",
      "Parch          891 non-null int64\n",
      "Ticket         891 non-null object\n",
      "Fare           891 non-null float64\n",
      "Cabin          204 non-null object\n",
      "Embarked       889 non-null object\n",
      "dtypes: float64(2), int64(5), object(5)\n",
      "memory usage: 83.6+ KB\n"
     ]
    }
   ],
   "source": [
    "titanic.info()"
   ]
  },
  {
   "cell_type": "code",
   "execution_count": 10,
   "metadata": {
    "ExecuteTime": {
     "end_time": "2019-08-24T14:22:08.623767Z",
     "start_time": "2019-08-24T14:22:08.617155Z"
    }
   },
   "outputs": [
    {
     "data": {
      "text/plain": [
       "Index(['PassengerId', 'Survived', 'Pclass', 'Sex', 'Age', 'SibSp', 'Parch',\n",
       "       'Fare', 'Embarked'],\n",
       "      dtype='object')"
      ]
     },
     "execution_count": 10,
     "metadata": {},
     "output_type": "execute_result"
    }
   ],
   "source": [
    "titanic_cln = titanic.drop(['Ticket', 'Cabin', 'Name'], axis=1)\n",
    "titanic_cln.columns"
   ]
  },
  {
   "cell_type": "code",
   "execution_count": 11,
   "metadata": {
    "ExecuteTime": {
     "end_time": "2019-08-24T14:22:08.723061Z",
     "start_time": "2019-08-24T14:22:08.698249Z"
    }
   },
   "outputs": [
    {
     "name": "stdout",
     "output_type": "stream",
     "text": [
      "<class 'pandas.core.frame.DataFrame'>\n",
      "RangeIndex: 891 entries, 0 to 890\n",
      "Data columns (total 9 columns):\n",
      "PassengerId    891 non-null category\n",
      "Survived       891 non-null category\n",
      "Pclass         891 non-null category\n",
      "Sex            891 non-null category\n",
      "Age            714 non-null float64\n",
      "SibSp          891 non-null category\n",
      "Parch          891 non-null category\n",
      "Fare           891 non-null float64\n",
      "Embarked       889 non-null category\n",
      "dtypes: category(7), float64(2)\n",
      "memory usage: 69.0 KB\n"
     ]
    }
   ],
   "source": [
    "convert_type = {'PassengerId': 'category', 'Survived': 'category', 'Pclass': 'category', \n",
    "              'Sex': 'category','SibSp': 'category', \n",
    "              'Parch': 'category',\n",
    "              'Embarked': 'category'}\n",
    "\n",
    "titanic_clean = titanic_cln.astype(convert_type)\n",
    "titanic_clean.info()"
   ]
  },
  {
   "cell_type": "code",
   "execution_count": 12,
   "metadata": {
    "ExecuteTime": {
     "end_time": "2019-08-24T14:22:08.867448Z",
     "start_time": "2019-08-24T14:22:08.858234Z"
    }
   },
   "outputs": [
    {
     "data": {
      "text/plain": [
       "PassengerId      0\n",
       "Survived         0\n",
       "Pclass           0\n",
       "Sex              0\n",
       "Age            177\n",
       "SibSp            0\n",
       "Parch            0\n",
       "Fare             0\n",
       "Embarked         2\n",
       "dtype: int64"
      ]
     },
     "execution_count": 12,
     "metadata": {},
     "output_type": "execute_result"
    }
   ],
   "source": [
    "titanic_clean.isna().sum()"
   ]
  },
  {
   "cell_type": "code",
   "execution_count": 13,
   "metadata": {
    "ExecuteTime": {
     "end_time": "2019-08-24T14:22:08.985518Z",
     "start_time": "2019-08-24T14:22:08.958710Z"
    }
   },
   "outputs": [
    {
     "data": {
      "text/html": [
       "<div>\n",
       "<style scoped>\n",
       "    .dataframe tbody tr th:only-of-type {\n",
       "        vertical-align: middle;\n",
       "    }\n",
       "\n",
       "    .dataframe tbody tr th {\n",
       "        vertical-align: top;\n",
       "    }\n",
       "\n",
       "    .dataframe thead th {\n",
       "        text-align: right;\n",
       "    }\n",
       "</style>\n",
       "<table border=\"1\" class=\"dataframe\">\n",
       "  <thead>\n",
       "    <tr style=\"text-align: right;\">\n",
       "      <th></th>\n",
       "      <th>Survived</th>\n",
       "      <th>Pclass</th>\n",
       "      <th>Age</th>\n",
       "      <th>SibSp</th>\n",
       "      <th>Parch</th>\n",
       "      <th>Fare</th>\n",
       "      <th>Embarked</th>\n",
       "    </tr>\n",
       "    <tr>\n",
       "      <th>Sex</th>\n",
       "      <th></th>\n",
       "      <th></th>\n",
       "      <th></th>\n",
       "      <th></th>\n",
       "      <th></th>\n",
       "      <th></th>\n",
       "      <th></th>\n",
       "    </tr>\n",
       "  </thead>\n",
       "  <tbody>\n",
       "    <tr>\n",
       "      <th>female</th>\n",
       "      <td>314</td>\n",
       "      <td>314</td>\n",
       "      <td>261</td>\n",
       "      <td>314</td>\n",
       "      <td>314</td>\n",
       "      <td>314</td>\n",
       "      <td>312</td>\n",
       "    </tr>\n",
       "    <tr>\n",
       "      <th>male</th>\n",
       "      <td>577</td>\n",
       "      <td>577</td>\n",
       "      <td>453</td>\n",
       "      <td>577</td>\n",
       "      <td>577</td>\n",
       "      <td>577</td>\n",
       "      <td>577</td>\n",
       "    </tr>\n",
       "  </tbody>\n",
       "</table>\n",
       "</div>"
      ],
      "text/plain": [
       "        Survived  Pclass  Age  SibSp  Parch  Fare  Embarked\n",
       "Sex                                                        \n",
       "female       314     314  261    314    314   314       312\n",
       "male         577     577  453    577    577   577       577"
      ]
     },
     "execution_count": 13,
     "metadata": {},
     "output_type": "execute_result"
    }
   ],
   "source": [
    "df = titanic_clean.groupby('Sex').count()\n",
    "df = df.drop(['PassengerId'], axis=1)\n",
    "df"
   ]
  },
  {
   "cell_type": "code",
   "execution_count": 14,
   "metadata": {
    "ExecuteTime": {
     "end_time": "2019-08-24T14:22:09.393540Z",
     "start_time": "2019-08-24T14:22:09.100546Z"
    }
   },
   "outputs": [
    {
     "data": {
      "text/plain": [
       "<matplotlib.axes._subplots.AxesSubplot at 0x24ee0c29a20>"
      ]
     },
     "execution_count": 14,
     "metadata": {},
     "output_type": "execute_result"
    },
    {
     "data": {
      "image/png": "[encoded data removed]",
      "text/plain": [
       "<Figure size 432x288 with 1 Axes>"
      ]
     },
     "metadata": {
      "needs_background": "light"
     },
     "output_type": "display_data"
    }
   ],
   "source": [
    "sns.boxplot(x=titanic_clean.Age, hue=titanic_clean.Survived)\n"
   ]
  },
  {
   "cell_type": "code",
   "execution_count": 15,
   "metadata": {
    "ExecuteTime": {
     "end_time": "2019-08-24T14:22:09.544520Z",
     "start_time": "2019-08-24T14:22:09.537575Z"
    }
   },
   "outputs": [
    {
     "name": "stdout",
     "output_type": "stream",
     "text": [
      "29.69911764705882\n",
      "0    S\n",
      "Name: Embarked, dtype: category\n",
      "Categories (3, object): [C, Q, S]\n"
     ]
    }
   ],
   "source": [
    "df = titanic_clean['Age'].mean()\n",
    "df_em = titanic_clean['Embarked'].mode()\n",
    "print(df)\n",
    "print(df_em)"
   ]
  },
  {
   "cell_type": "code",
   "execution_count": 16,
   "metadata": {
    "ExecuteTime": {
     "end_time": "2019-08-24T14:22:09.706101Z",
     "start_time": "2019-08-24T14:22:09.694183Z"
    }
   },
   "outputs": [],
   "source": [
    "titanic_clean['Age'].fillna(titanic_clean['Age'].mean(), inplace=True, axis=0)\n",
    "titanic_clean['Embarked'].fillna('S', inplace=True, axis=0)"
   ]
  },
  {
   "cell_type": "code",
   "execution_count": 17,
   "metadata": {
    "ExecuteTime": {
     "end_time": "2019-08-24T14:22:09.927415Z",
     "start_time": "2019-08-24T14:22:09.913360Z"
    }
   },
   "outputs": [
    {
     "data": {
      "text/plain": [
       "PassengerId    0\n",
       "Survived       0\n",
       "Pclass         0\n",
       "Sex            0\n",
       "Age            0\n",
       "SibSp          0\n",
       "Parch          0\n",
       "Fare           0\n",
       "Embarked       0\n",
       "dtype: int64"
      ]
     },
     "execution_count": 17,
     "metadata": {},
     "output_type": "execute_result"
    }
   ],
   "source": [
    "titanic_clean.isna().sum()"
   ]
  },
  {
   "cell_type": "code",
   "execution_count": 18,
   "metadata": {
    "ExecuteTime": {
     "end_time": "2019-08-24T14:22:10.089065Z",
     "start_time": "2019-08-24T14:22:10.065326Z"
    },
    "scrolled": true
   },
   "outputs": [
    {
     "data": {
      "text/html": [
       "<div>\n",
       "<style scoped>\n",
       "    .dataframe tbody tr th:only-of-type {\n",
       "        vertical-align: middle;\n",
       "    }\n",
       "\n",
       "    .dataframe tbody tr th {\n",
       "        vertical-align: top;\n",
       "    }\n",
       "\n",
       "    .dataframe thead th {\n",
       "        text-align: right;\n",
       "    }\n",
       "</style>\n",
       "<table border=\"1\" class=\"dataframe\">\n",
       "  <thead>\n",
       "    <tr style=\"text-align: right;\">\n",
       "      <th></th>\n",
       "      <th>PassengerId</th>\n",
       "      <th>Survived</th>\n",
       "      <th>Pclass</th>\n",
       "      <th>Sex</th>\n",
       "      <th>Age</th>\n",
       "      <th>SibSp</th>\n",
       "      <th>Parch</th>\n",
       "      <th>Fare</th>\n",
       "      <th>Embarked</th>\n",
       "    </tr>\n",
       "  </thead>\n",
       "  <tbody>\n",
       "    <tr>\n",
       "      <th>0</th>\n",
       "      <td>1</td>\n",
       "      <td>0</td>\n",
       "      <td>3</td>\n",
       "      <td>male</td>\n",
       "      <td>22.000000</td>\n",
       "      <td>1</td>\n",
       "      <td>0</td>\n",
       "      <td>7.2500</td>\n",
       "      <td>S</td>\n",
       "    </tr>\n",
       "    <tr>\n",
       "      <th>1</th>\n",
       "      <td>2</td>\n",
       "      <td>1</td>\n",
       "      <td>1</td>\n",
       "      <td>female</td>\n",
       "      <td>38.000000</td>\n",
       "      <td>1</td>\n",
       "      <td>0</td>\n",
       "      <td>71.2833</td>\n",
       "      <td>C</td>\n",
       "    </tr>\n",
       "    <tr>\n",
       "      <th>2</th>\n",
       "      <td>3</td>\n",
       "      <td>1</td>\n",
       "      <td>3</td>\n",
       "      <td>female</td>\n",
       "      <td>26.000000</td>\n",
       "      <td>0</td>\n",
       "      <td>0</td>\n",
       "      <td>7.9250</td>\n",
       "      <td>S</td>\n",
       "    </tr>\n",
       "    <tr>\n",
       "      <th>3</th>\n",
       "      <td>4</td>\n",
       "      <td>1</td>\n",
       "      <td>1</td>\n",
       "      <td>female</td>\n",
       "      <td>35.000000</td>\n",
       "      <td>1</td>\n",
       "      <td>0</td>\n",
       "      <td>53.1000</td>\n",
       "      <td>S</td>\n",
       "    </tr>\n",
       "    <tr>\n",
       "      <th>4</th>\n",
       "      <td>5</td>\n",
       "      <td>0</td>\n",
       "      <td>3</td>\n",
       "      <td>male</td>\n",
       "      <td>35.000000</td>\n",
       "      <td>0</td>\n",
       "      <td>0</td>\n",
       "      <td>8.0500</td>\n",
       "      <td>S</td>\n",
       "    </tr>\n",
       "    <tr>\n",
       "      <th>5</th>\n",
       "      <td>6</td>\n",
       "      <td>0</td>\n",
       "      <td>3</td>\n",
       "      <td>male</td>\n",
       "      <td>29.699118</td>\n",
       "      <td>0</td>\n",
       "      <td>0</td>\n",
       "      <td>8.4583</td>\n",
       "      <td>Q</td>\n",
       "    </tr>\n",
       "    <tr>\n",
       "      <th>6</th>\n",
       "      <td>7</td>\n",
       "      <td>0</td>\n",
       "      <td>1</td>\n",
       "      <td>male</td>\n",
       "      <td>54.000000</td>\n",
       "      <td>0</td>\n",
       "      <td>0</td>\n",
       "      <td>51.8625</td>\n",
       "      <td>S</td>\n",
       "    </tr>\n",
       "    <tr>\n",
       "      <th>7</th>\n",
       "      <td>8</td>\n",
       "      <td>0</td>\n",
       "      <td>3</td>\n",
       "      <td>male</td>\n",
       "      <td>2.000000</td>\n",
       "      <td>3</td>\n",
       "      <td>1</td>\n",
       "      <td>21.0750</td>\n",
       "      <td>S</td>\n",
       "    </tr>\n",
       "    <tr>\n",
       "      <th>8</th>\n",
       "      <td>9</td>\n",
       "      <td>1</td>\n",
       "      <td>3</td>\n",
       "      <td>female</td>\n",
       "      <td>27.000000</td>\n",
       "      <td>0</td>\n",
       "      <td>2</td>\n",
       "      <td>11.1333</td>\n",
       "      <td>S</td>\n",
       "    </tr>\n",
       "    <tr>\n",
       "      <th>9</th>\n",
       "      <td>10</td>\n",
       "      <td>1</td>\n",
       "      <td>2</td>\n",
       "      <td>female</td>\n",
       "      <td>14.000000</td>\n",
       "      <td>1</td>\n",
       "      <td>0</td>\n",
       "      <td>30.0708</td>\n",
       "      <td>C</td>\n",
       "    </tr>\n",
       "  </tbody>\n",
       "</table>\n",
       "</div>"
      ],
      "text/plain": [
       "  PassengerId Survived Pclass     Sex        Age SibSp Parch     Fare Embarked\n",
       "0           1        0      3    male  22.000000     1     0   7.2500        S\n",
       "1           2        1      1  female  38.000000     1     0  71.2833        C\n",
       "2           3        1      3  female  26.000000     0     0   7.9250        S\n",
       "3           4        1      1  female  35.000000     1     0  53.1000        S\n",
       "4           5        0      3    male  35.000000     0     0   8.0500        S\n",
       "5           6        0      3    male  29.699118     0     0   8.4583        Q\n",
       "6           7        0      1    male  54.000000     0     0  51.8625        S\n",
       "7           8        0      3    male   2.000000     3     1  21.0750        S\n",
       "8           9        1      3  female  27.000000     0     2  11.1333        S\n",
       "9          10        1      2  female  14.000000     1     0  30.0708        C"
      ]
     },
     "execution_count": 18,
     "metadata": {},
     "output_type": "execute_result"
    }
   ],
   "source": [
    "titanic_clean.head(10)"
   ]
  },
  {
   "cell_type": "code",
   "execution_count": 19,
   "metadata": {
    "ExecuteTime": {
     "end_time": "2019-08-24T14:22:10.208806Z",
     "start_time": "2019-08-24T14:22:10.202157Z"
    }
   },
   "outputs": [],
   "source": [
    "#sns.pairplot(titanic_clean, diag_kind='kde')"
   ]
  },
  {
   "cell_type": "code",
   "execution_count": 20,
   "metadata": {
    "ExecuteTime": {
     "end_time": "2019-08-24T14:22:10.345525Z",
     "start_time": "2019-08-24T14:22:10.339431Z"
    }
   },
   "outputs": [],
   "source": [
    "sex = pd.get_dummies(titanic_clean['Sex'], drop_first=True)\n",
    "embarked = pd.get_dummies(titanic_clean['Embarked'], drop_first=True)"
   ]
  },
  {
   "cell_type": "code",
   "execution_count": 21,
   "metadata": {
    "ExecuteTime": {
     "end_time": "2019-08-24T14:22:10.494567Z",
     "start_time": "2019-08-24T14:22:10.488425Z"
    }
   },
   "outputs": [],
   "source": [
    "titanic_clean.drop(['Sex', 'Embarked'],  inplace = True, axis=1)\n",
    "\n",
    "titanic_clean = pd.concat([titanic_clean, sex, embarked], axis = 1)"
   ]
  },
  {
   "cell_type": "code",
   "execution_count": null,
   "metadata": {},
   "outputs": [],
   "source": [
    "\n"
   ]
  },
  {
   "cell_type": "code",
   "execution_count": 27,
   "metadata": {
    "ExecuteTime": {
     "end_time": "2019-08-24T14:24:45.704047Z",
     "start_time": "2019-08-24T14:24:45.691429Z"
    }
   },
   "outputs": [
    {
     "data": {
      "text/html": [
       "<div>\n",
       "<style scoped>\n",
       "    .dataframe tbody tr th:only-of-type {\n",
       "        vertical-align: middle;\n",
       "    }\n",
       "\n",
       "    .dataframe tbody tr th {\n",
       "        vertical-align: top;\n",
       "    }\n",
       "\n",
       "    .dataframe thead th {\n",
       "        text-align: right;\n",
       "    }\n",
       "</style>\n",
       "<table border=\"1\" class=\"dataframe\">\n",
       "  <thead>\n",
       "    <tr style=\"text-align: right;\">\n",
       "      <th></th>\n",
       "      <th>PassengerId</th>\n",
       "      <th>Survived</th>\n",
       "      <th>Pclass</th>\n",
       "      <th>Age</th>\n",
       "      <th>SibSp</th>\n",
       "      <th>Parch</th>\n",
       "      <th>Fare</th>\n",
       "      <th>male</th>\n",
       "      <th>Q</th>\n",
       "      <th>S</th>\n",
       "    </tr>\n",
       "  </thead>\n",
       "  <tbody>\n",
       "    <tr>\n",
       "      <th>0</th>\n",
       "      <td>1</td>\n",
       "      <td>0</td>\n",
       "      <td>3</td>\n",
       "      <td>22.0</td>\n",
       "      <td>1</td>\n",
       "      <td>0</td>\n",
       "      <td>7.2500</td>\n",
       "      <td>1</td>\n",
       "      <td>0</td>\n",
       "      <td>1</td>\n",
       "    </tr>\n",
       "    <tr>\n",
       "      <th>1</th>\n",
       "      <td>2</td>\n",
       "      <td>1</td>\n",
       "      <td>1</td>\n",
       "      <td>38.0</td>\n",
       "      <td>1</td>\n",
       "      <td>0</td>\n",
       "      <td>71.2833</td>\n",
       "      <td>0</td>\n",
       "      <td>0</td>\n",
       "      <td>0</td>\n",
       "    </tr>\n",
       "    <tr>\n",
       "      <th>2</th>\n",
       "      <td>3</td>\n",
       "      <td>1</td>\n",
       "      <td>3</td>\n",
       "      <td>26.0</td>\n",
       "      <td>0</td>\n",
       "      <td>0</td>\n",
       "      <td>7.9250</td>\n",
       "      <td>0</td>\n",
       "      <td>0</td>\n",
       "      <td>1</td>\n",
       "    </tr>\n",
       "    <tr>\n",
       "      <th>3</th>\n",
       "      <td>4</td>\n",
       "      <td>1</td>\n",
       "      <td>1</td>\n",
       "      <td>35.0</td>\n",
       "      <td>1</td>\n",
       "      <td>0</td>\n",
       "      <td>53.1000</td>\n",
       "      <td>0</td>\n",
       "      <td>0</td>\n",
       "      <td>1</td>\n",
       "    </tr>\n",
       "    <tr>\n",
       "      <th>4</th>\n",
       "      <td>5</td>\n",
       "      <td>0</td>\n",
       "      <td>3</td>\n",
       "      <td>35.0</td>\n",
       "      <td>0</td>\n",
       "      <td>0</td>\n",
       "      <td>8.0500</td>\n",
       "      <td>1</td>\n",
       "      <td>0</td>\n",
       "      <td>1</td>\n",
       "    </tr>\n",
       "  </tbody>\n",
       "</table>\n",
       "</div>"
      ],
      "text/plain": [
       "  PassengerId Survived Pclass   Age SibSp Parch     Fare  male  Q  S\n",
       "0           1        0      3  22.0     1     0   7.2500     1  0  1\n",
       "1           2        1      1  38.0     1     0  71.2833     0  0  0\n",
       "2           3        1      3  26.0     0     0   7.9250     0  0  1\n",
       "3           4        1      1  35.0     1     0  53.1000     0  0  1\n",
       "4           5        0      3  35.0     0     0   8.0500     1  0  1"
      ]
     },
     "execution_count": 27,
     "metadata": {},
     "output_type": "execute_result"
    }
   ],
   "source": [
    "titanic_clean.head()"
   ]
  },
  {
   "cell_type": "code",
   "execution_count": 28,
   "metadata": {
    "ExecuteTime": {
     "end_time": "2019-08-24T14:24:46.564532Z",
     "start_time": "2019-08-24T14:24:46.556977Z"
    }
   },
   "outputs": [
    {
     "data": {
      "text/plain": [
       "Index(['PassengerId', 'Pclass', 'Age', 'SibSp', 'Parch', 'Fare', 'male', 'Q',\n",
       "       'S'],\n",
       "      dtype='object')"
      ]
     },
     "execution_count": 28,
     "metadata": {},
     "output_type": "execute_result"
    }
   ],
   "source": [
    "y = titanic_clean['Survived']\n",
    "X = titanic_clean.drop('Survived', axis=1)\n",
    "X.columns"
   ]
  },
  {
   "cell_type": "code",
   "execution_count": 29,
   "metadata": {
    "ExecuteTime": {
     "end_time": "2019-08-24T14:24:47.304093Z",
     "start_time": "2019-08-24T14:24:47.284523Z"
    }
   },
   "outputs": [
    {
     "name": "stderr",
     "output_type": "stream",
     "text": [
      "C:\\ProgramData\\Anaconda3\\lib\\site-packages\\sklearn\\utils\\validation.py:595: DataConversionWarning: Data with input dtype object was converted to float64 by StandardScaler.\n",
      "  warnings.warn(msg, DataConversionWarning)\n",
      "C:\\ProgramData\\Anaconda3\\lib\\site-packages\\sklearn\\utils\\validation.py:595: DataConversionWarning: Data with input dtype object was converted to float64 by StandardScaler.\n",
      "  warnings.warn(msg, DataConversionWarning)\n"
     ]
    }
   ],
   "source": [
    "scale = StandardScaler()\n",
    "X_new = X.values\n",
    "X_scale = scale.fit_transform(X_new)\n",
    "X_train, X_test, y_train, y_test = train_test_split(X_scale, y, test_size=0.3, random_state=23)"
   ]
  },
  {
   "cell_type": "code",
   "execution_count": 30,
   "metadata": {
    "ExecuteTime": {
     "end_time": "2019-08-24T14:24:48.094454Z",
     "start_time": "2019-08-24T14:24:48.001628Z"
    }
   },
   "outputs": [],
   "source": [
    "colNames = X.columns\n",
    "\n",
    "model1 = SVC(kernel='linear', C=0.1)\n",
    "modftr = RFE(estimator=model1, n_features_to_select=1, step=1)\n",
    "modftr.fit(X_scale, y)\n",
    "ranking = modftr.ranking_\n",
    "\n",
    "\n",
    "ranking_df = pd.DataFrame()\n",
    "ranking = pd.Series(ranking)\n",
    "colNames = pd.Series(colNames)\n",
    "ranking_final = pd.concat([ranking_df, ranking, colNames], axis=1)\n"
   ]
  },
  {
   "cell_type": "code",
   "execution_count": 31,
   "metadata": {
    "ExecuteTime": {
     "end_time": "2019-08-24T14:24:49.158315Z",
     "start_time": "2019-08-24T14:24:49.142759Z"
    }
   },
   "outputs": [
    {
     "data": {
      "text/html": [
       "<div>\n",
       "<style scoped>\n",
       "    .dataframe tbody tr th:only-of-type {\n",
       "        vertical-align: middle;\n",
       "    }\n",
       "\n",
       "    .dataframe tbody tr th {\n",
       "        vertical-align: top;\n",
       "    }\n",
       "\n",
       "    .dataframe thead th {\n",
       "        text-align: right;\n",
       "    }\n",
       "</style>\n",
       "<table border=\"1\" class=\"dataframe\">\n",
       "  <thead>\n",
       "    <tr style=\"text-align: right;\">\n",
       "      <th></th>\n",
       "      <th>Rank</th>\n",
       "      <th>Features</th>\n",
       "    </tr>\n",
       "  </thead>\n",
       "  <tbody>\n",
       "    <tr>\n",
       "      <th>6</th>\n",
       "      <td>1</td>\n",
       "      <td>male</td>\n",
       "    </tr>\n",
       "    <tr>\n",
       "      <th>3</th>\n",
       "      <td>2</td>\n",
       "      <td>SibSp</td>\n",
       "    </tr>\n",
       "    <tr>\n",
       "      <th>5</th>\n",
       "      <td>3</td>\n",
       "      <td>Fare</td>\n",
       "    </tr>\n",
       "    <tr>\n",
       "      <th>4</th>\n",
       "      <td>4</td>\n",
       "      <td>Parch</td>\n",
       "    </tr>\n",
       "    <tr>\n",
       "      <th>2</th>\n",
       "      <td>5</td>\n",
       "      <td>Age</td>\n",
       "    </tr>\n",
       "    <tr>\n",
       "      <th>1</th>\n",
       "      <td>6</td>\n",
       "      <td>Pclass</td>\n",
       "    </tr>\n",
       "    <tr>\n",
       "      <th>0</th>\n",
       "      <td>7</td>\n",
       "      <td>PassengerId</td>\n",
       "    </tr>\n",
       "    <tr>\n",
       "      <th>8</th>\n",
       "      <td>8</td>\n",
       "      <td>S</td>\n",
       "    </tr>\n",
       "    <tr>\n",
       "      <th>7</th>\n",
       "      <td>9</td>\n",
       "      <td>Q</td>\n",
       "    </tr>\n",
       "  </tbody>\n",
       "</table>\n",
       "</div>"
      ],
      "text/plain": [
       "   Rank     Features\n",
       "6     1         male\n",
       "3     2        SibSp\n",
       "5     3         Fare\n",
       "4     4        Parch\n",
       "2     5          Age\n",
       "1     6       Pclass\n",
       "0     7  PassengerId\n",
       "8     8            S\n",
       "7     9            Q"
      ]
     },
     "execution_count": 31,
     "metadata": {},
     "output_type": "execute_result"
    }
   ],
   "source": [
    "ranking_final.columns = ['Rank', 'Features']\n",
    "\n",
    "ranking_final.sort_values(by='Rank', ascending=True)\n"
   ]
  },
  {
   "cell_type": "code",
   "execution_count": 32,
   "metadata": {
    "ExecuteTime": {
     "end_time": "2019-08-24T14:24:50.316518Z",
     "start_time": "2019-08-24T14:24:50.307010Z"
    }
   },
   "outputs": [
    {
     "name": "stderr",
     "output_type": "stream",
     "text": [
      "C:\\ProgramData\\Anaconda3\\lib\\site-packages\\sklearn\\utils\\validation.py:595: DataConversionWarning: Data with input dtype object was converted to float64 by StandardScaler.\n",
      "  warnings.warn(msg, DataConversionWarning)\n",
      "C:\\ProgramData\\Anaconda3\\lib\\site-packages\\sklearn\\utils\\validation.py:595: DataConversionWarning: Data with input dtype object was converted to float64 by StandardScaler.\n",
      "  warnings.warn(msg, DataConversionWarning)\n"
     ]
    },
    {
     "data": {
      "text/plain": [
       "Index(['Pclass', 'Age', 'SibSp', 'Parch', 'Fare', 'male'], dtype='object')"
      ]
     },
     "execution_count": 32,
     "metadata": {},
     "output_type": "execute_result"
    }
   ],
   "source": [
    "X_opt1 =  X.drop(['PassengerId', 'S','Q'], axis=1)\n",
    "X_opt2 = X_opt1.values\n",
    "X_opt = scale.fit_transform(X_opt2)\n",
    "X_opt1.columns"
   ]
  },
  {
   "cell_type": "code",
   "execution_count": 33,
   "metadata": {
    "ExecuteTime": {
     "end_time": "2019-08-24T14:24:54.148189Z",
     "start_time": "2019-08-24T14:24:52.718812Z"
    }
   },
   "outputs": [
    {
     "name": "stderr",
     "output_type": "stream",
     "text": [
      "C:\\ProgramData\\Anaconda3\\lib\\site-packages\\sklearn\\svm\\base.py:196: FutureWarning: The default value of gamma will change from 'auto' to 'scale' in version 0.22 to account better for unscaled features. Set gamma explicitly to 'auto' or 'scale' to avoid this warning.\n",
      "  \"avoid this warning.\", FutureWarning)\n",
      "C:\\ProgramData\\Anaconda3\\lib\\site-packages\\sklearn\\svm\\base.py:196: FutureWarning: The default value of gamma will change from 'auto' to 'scale' in version 0.22 to account better for unscaled features. Set gamma explicitly to 'auto' or 'scale' to avoid this warning.\n",
      "  \"avoid this warning.\", FutureWarning)\n",
      "C:\\ProgramData\\Anaconda3\\lib\\site-packages\\sklearn\\svm\\base.py:196: FutureWarning: The default value of gamma will change from 'auto' to 'scale' in version 0.22 to account better for unscaled features. Set gamma explicitly to 'auto' or 'scale' to avoid this warning.\n",
      "  \"avoid this warning.\", FutureWarning)\n",
      "C:\\ProgramData\\Anaconda3\\lib\\site-packages\\sklearn\\svm\\base.py:196: FutureWarning: The default value of gamma will change from 'auto' to 'scale' in version 0.22 to account better for unscaled features. Set gamma explicitly to 'auto' or 'scale' to avoid this warning.\n",
      "  \"avoid this warning.\", FutureWarning)\n",
      "C:\\ProgramData\\Anaconda3\\lib\\site-packages\\sklearn\\svm\\base.py:196: FutureWarning: The default value of gamma will change from 'auto' to 'scale' in version 0.22 to account better for unscaled features. Set gamma explicitly to 'auto' or 'scale' to avoid this warning.\n",
      "  \"avoid this warning.\", FutureWarning)\n",
      "C:\\ProgramData\\Anaconda3\\lib\\site-packages\\sklearn\\svm\\base.py:196: FutureWarning: The default value of gamma will change from 'auto' to 'scale' in version 0.22 to account better for unscaled features. Set gamma explicitly to 'auto' or 'scale' to avoid this warning.\n",
      "  \"avoid this warning.\", FutureWarning)\n",
      "C:\\ProgramData\\Anaconda3\\lib\\site-packages\\sklearn\\svm\\base.py:196: FutureWarning: The default value of gamma will change from 'auto' to 'scale' in version 0.22 to account better for unscaled features. Set gamma explicitly to 'auto' or 'scale' to avoid this warning.\n",
      "  \"avoid this warning.\", FutureWarning)\n",
      "C:\\ProgramData\\Anaconda3\\lib\\site-packages\\sklearn\\svm\\base.py:196: FutureWarning: The default value of gamma will change from 'auto' to 'scale' in version 0.22 to account better for unscaled features. Set gamma explicitly to 'auto' or 'scale' to avoid this warning.\n",
      "  \"avoid this warning.\", FutureWarning)\n",
      "C:\\ProgramData\\Anaconda3\\lib\\site-packages\\sklearn\\svm\\base.py:196: FutureWarning: The default value of gamma will change from 'auto' to 'scale' in version 0.22 to account better for unscaled features. Set gamma explicitly to 'auto' or 'scale' to avoid this warning.\n",
      "  \"avoid this warning.\", FutureWarning)\n",
      "C:\\ProgramData\\Anaconda3\\lib\\site-packages\\sklearn\\svm\\base.py:196: FutureWarning: The default value of gamma will change from 'auto' to 'scale' in version 0.22 to account better for unscaled features. Set gamma explicitly to 'auto' or 'scale' to avoid this warning.\n",
      "  \"avoid this warning.\", FutureWarning)\n",
      "C:\\ProgramData\\Anaconda3\\lib\\site-packages\\sklearn\\svm\\base.py:196: FutureWarning: The default value of gamma will change from 'auto' to 'scale' in version 0.22 to account better for unscaled features. Set gamma explicitly to 'auto' or 'scale' to avoid this warning.\n",
      "  \"avoid this warning.\", FutureWarning)\n",
      "C:\\ProgramData\\Anaconda3\\lib\\site-packages\\sklearn\\svm\\base.py:196: FutureWarning: The default value of gamma will change from 'auto' to 'scale' in version 0.22 to account better for unscaled features. Set gamma explicitly to 'auto' or 'scale' to avoid this warning.\n",
      "  \"avoid this warning.\", FutureWarning)\n",
      "C:\\ProgramData\\Anaconda3\\lib\\site-packages\\sklearn\\svm\\base.py:196: FutureWarning: The default value of gamma will change from 'auto' to 'scale' in version 0.22 to account better for unscaled features. Set gamma explicitly to 'auto' or 'scale' to avoid this warning.\n",
      "  \"avoid this warning.\", FutureWarning)\n",
      "C:\\ProgramData\\Anaconda3\\lib\\site-packages\\sklearn\\svm\\base.py:196: FutureWarning: The default value of gamma will change from 'auto' to 'scale' in version 0.22 to account better for unscaled features. Set gamma explicitly to 'auto' or 'scale' to avoid this warning.\n",
      "  \"avoid this warning.\", FutureWarning)\n",
      "C:\\ProgramData\\Anaconda3\\lib\\site-packages\\sklearn\\svm\\base.py:196: FutureWarning: The default value of gamma will change from 'auto' to 'scale' in version 0.22 to account better for unscaled features. Set gamma explicitly to 'auto' or 'scale' to avoid this warning.\n",
      "  \"avoid this warning.\", FutureWarning)\n",
      "C:\\ProgramData\\Anaconda3\\lib\\site-packages\\sklearn\\svm\\base.py:196: FutureWarning: The default value of gamma will change from 'auto' to 'scale' in version 0.22 to account better for unscaled features. Set gamma explicitly to 'auto' or 'scale' to avoid this warning.\n",
      "  \"avoid this warning.\", FutureWarning)\n",
      "C:\\ProgramData\\Anaconda3\\lib\\site-packages\\sklearn\\svm\\base.py:196: FutureWarning: The default value of gamma will change from 'auto' to 'scale' in version 0.22 to account better for unscaled features. Set gamma explicitly to 'auto' or 'scale' to avoid this warning.\n",
      "  \"avoid this warning.\", FutureWarning)\n",
      "C:\\ProgramData\\Anaconda3\\lib\\site-packages\\sklearn\\svm\\base.py:196: FutureWarning: The default value of gamma will change from 'auto' to 'scale' in version 0.22 to account better for unscaled features. Set gamma explicitly to 'auto' or 'scale' to avoid this warning.\n",
      "  \"avoid this warning.\", FutureWarning)\n",
      "C:\\ProgramData\\Anaconda3\\lib\\site-packages\\sklearn\\svm\\base.py:196: FutureWarning: The default value of gamma will change from 'auto' to 'scale' in version 0.22 to account better for unscaled features. Set gamma explicitly to 'auto' or 'scale' to avoid this warning.\n",
      "  \"avoid this warning.\", FutureWarning)\n",
      "C:\\ProgramData\\Anaconda3\\lib\\site-packages\\sklearn\\svm\\base.py:196: FutureWarning: The default value of gamma will change from 'auto' to 'scale' in version 0.22 to account better for unscaled features. Set gamma explicitly to 'auto' or 'scale' to avoid this warning.\n",
      "  \"avoid this warning.\", FutureWarning)\n",
      "C:\\ProgramData\\Anaconda3\\lib\\site-packages\\sklearn\\svm\\base.py:196: FutureWarning: The default value of gamma will change from 'auto' to 'scale' in version 0.22 to account better for unscaled features. Set gamma explicitly to 'auto' or 'scale' to avoid this warning.\n",
      "  \"avoid this warning.\", FutureWarning)\n",
      "C:\\ProgramData\\Anaconda3\\lib\\site-packages\\sklearn\\svm\\base.py:196: FutureWarning: The default value of gamma will change from 'auto' to 'scale' in version 0.22 to account better for unscaled features. Set gamma explicitly to 'auto' or 'scale' to avoid this warning.\n",
      "  \"avoid this warning.\", FutureWarning)\n",
      "C:\\ProgramData\\Anaconda3\\lib\\site-packages\\sklearn\\svm\\base.py:196: FutureWarning: The default value of gamma will change from 'auto' to 'scale' in version 0.22 to account better for unscaled features. Set gamma explicitly to 'auto' or 'scale' to avoid this warning.\n",
      "  \"avoid this warning.\", FutureWarning)\n",
      "C:\\ProgramData\\Anaconda3\\lib\\site-packages\\sklearn\\svm\\base.py:196: FutureWarning: The default value of gamma will change from 'auto' to 'scale' in version 0.22 to account better for unscaled features. Set gamma explicitly to 'auto' or 'scale' to avoid this warning.\n",
      "  \"avoid this warning.\", FutureWarning)\n",
      "C:\\ProgramData\\Anaconda3\\lib\\site-packages\\sklearn\\svm\\base.py:196: FutureWarning: The default value of gamma will change from 'auto' to 'scale' in version 0.22 to account better for unscaled features. Set gamma explicitly to 'auto' or 'scale' to avoid this warning.\n",
      "  \"avoid this warning.\", FutureWarning)\n",
      "C:\\ProgramData\\Anaconda3\\lib\\site-packages\\sklearn\\svm\\base.py:196: FutureWarning: The default value of gamma will change from 'auto' to 'scale' in version 0.22 to account better for unscaled features. Set gamma explicitly to 'auto' or 'scale' to avoid this warning.\n",
      "  \"avoid this warning.\", FutureWarning)\n"
     ]
    },
    {
     "name": "stdout",
     "output_type": "stream",
     "text": [
      "Best Parameters: {'degree': 1, 'kernel': 'rbf'}\n",
      "Best Score: 0.8159371492704826\n"
     ]
    },
    {
     "name": "stderr",
     "output_type": "stream",
     "text": [
      "C:\\ProgramData\\Anaconda3\\lib\\site-packages\\sklearn\\svm\\base.py:196: FutureWarning: The default value of gamma will change from 'auto' to 'scale' in version 0.22 to account better for unscaled features. Set gamma explicitly to 'auto' or 'scale' to avoid this warning.\n",
      "  \"avoid this warning.\", FutureWarning)\n",
      "C:\\ProgramData\\Anaconda3\\lib\\site-packages\\sklearn\\svm\\base.py:196: FutureWarning: The default value of gamma will change from 'auto' to 'scale' in version 0.22 to account better for unscaled features. Set gamma explicitly to 'auto' or 'scale' to avoid this warning.\n",
      "  \"avoid this warning.\", FutureWarning)\n",
      "C:\\ProgramData\\Anaconda3\\lib\\site-packages\\sklearn\\svm\\base.py:196: FutureWarning: The default value of gamma will change from 'auto' to 'scale' in version 0.22 to account better for unscaled features. Set gamma explicitly to 'auto' or 'scale' to avoid this warning.\n",
      "  \"avoid this warning.\", FutureWarning)\n",
      "C:\\ProgramData\\Anaconda3\\lib\\site-packages\\sklearn\\svm\\base.py:196: FutureWarning: The default value of gamma will change from 'auto' to 'scale' in version 0.22 to account better for unscaled features. Set gamma explicitly to 'auto' or 'scale' to avoid this warning.\n",
      "  \"avoid this warning.\", FutureWarning)\n"
     ]
    }
   ],
   "source": [
    "def optmodel (model, X, y, param_grid, cv):\n",
    "    mod = GridSearchCV(model, param_grid, cv=cv)\n",
    "    mod.fit(X, y)\n",
    "    print('Best Parameters:',mod.best_params_)\n",
    "    print('Best Score:', mod.best_score_)\n",
    "    \n",
    "clf = SVC(class_weight='balanced')\n",
    "param_grid= {'kernel':('rbf', 'poly', 'linear', 'sigmoid'),'degree':np.arange(1, 2)}\n",
    "\n",
    "optmodel(clf, X_scale, y, param_grid, 10)"
   ]
  },
  {
   "cell_type": "code",
   "execution_count": 89,
   "metadata": {
    "ExecuteTime": {
     "end_time": "2019-08-30T13:31:45.208869Z",
     "start_time": "2019-08-30T13:31:44.763279Z"
    }
   },
   "outputs": [
    {
     "name": "stdout",
     "output_type": "stream",
     "text": [
      "[[135  22]\n",
      " [ 27  84]]\n",
      "              precision    recall  f1-score   support\n",
      "\n",
      "           0       0.83      0.86      0.85       157\n",
      "           1       0.79      0.76      0.77       111\n",
      "\n",
      "   micro avg       0.82      0.82      0.82       268\n",
      "   macro avg       0.81      0.81      0.81       268\n",
      "weighted avg       0.82      0.82      0.82       268\n",
      "\n",
      "0.8083146841108625\n"
     ]
    },
    {
     "name": "stderr",
     "output_type": "stream",
     "text": [
      "C:\\ProgramData\\Anaconda3\\lib\\site-packages\\sklearn\\svm\\base.py:196: FutureWarning: The default value of gamma will change from 'auto' to 'scale' in version 0.22 to account better for unscaled features. Set gamma explicitly to 'auto' or 'scale' to avoid this warning.\n",
      "  \"avoid this warning.\", FutureWarning)\n"
     ]
    },
    {
     "data": {
      "text/plain": [
       "<matplotlib.legend.Legend at 0x24ee2d8dac8>"
      ]
     },
     "execution_count": 89,
     "metadata": {},
     "output_type": "execute_result"
    },
    {
     "data": {
      "image/png": "[encoded data removed]",
      "text/plain": [
       "<Figure size 432x288 with 1 Axes>"
      ]
     },
     "metadata": {
      "needs_background": "light"
     },
     "output_type": "display_data"
    }
   ],
   "source": [
    "clf_svc = SVC(kernel='rbf', class_weight='balanced', degree=1)\n",
    "\n",
    "Xa_train, Xa_test, ya_train, ya_test = train_test_split(X_scale, y, test_size= 0.3, random_state=42)\n",
    "clf_svc.fit(Xa_train, ya_train)\n",
    "pred = clf_svc.predict(Xa_test)\n",
    "\n",
    "print(confusion_matrix(ya_test, pred))\n",
    "print(classification_report(ya_test, pred))\n",
    "print(roc_auc_score(ya_test, pred))\n",
    "\n",
    "\n",
    "fp, tp, threshold  = roc_curve(ya_test, pred)\n",
    "auc = roc_auc_score(ya_test, pred)\n",
    "\n",
    "\n",
    "plt.figure()\n",
    "plt.xlabel('False Positives')\n",
    "plt.ylabel('True Positives')\n",
    "plt.plot([0, 1], [0, 1], color='r', linestyle='--')\n",
    "plt.xlim(0.0, 1.0)\n",
    "plt.ylim(0.0, 1.05)\n",
    "plt.plot(fp, tp, color='blue', lw=2, label='SVM ROC area = %0.2f)' %auc)\n",
    "plt.title('ROC CURVE FOR TITATIC - SVM')\n",
    "plt.legend(loc=\"lower right\")\n"
   ]
  },
  {
   "cell_type": "code",
   "execution_count": 35,
   "metadata": {
    "ExecuteTime": {
     "end_time": "2019-08-24T14:25:45.234686Z",
     "start_time": "2019-08-24T14:25:18.266797Z"
    }
   },
   "outputs": [
    {
     "name": "stdout",
     "output_type": "stream",
     "text": [
      "Best Parameters: {'algorithm': 'auto', 'n_neighbors': 7, 'p': 1, 'weights': 'distance'}\n",
      "Best Score: 0.8181818181818182\n"
     ]
    }
   ],
   "source": [
    "from sklearn.neighbors import KNeighborsClassifier\n",
    "\n",
    "KNN = KNeighborsClassifier()\n",
    "\n",
    "param_grid1 = {'n_neighbors' : np.arange(1, 10, 1), 'weights':('uniform', 'distance'), \n",
    "               'algorithm':('auto', 'ball_tree', 'kd_tree', 'brute'), 'p' : np.arange(1,2,1)}\n",
    "\n",
    "optmodel(KNN, X_scale, y, param_grid1, 10)\n",
    "\n"
   ]
  },
  {
   "cell_type": "code",
   "execution_count": 36,
   "metadata": {
    "ExecuteTime": {
     "end_time": "2019-08-24T14:29:08.583741Z",
     "start_time": "2019-08-24T14:29:08.104769Z"
    }
   },
   "outputs": [
    {
     "name": "stdout",
     "output_type": "stream",
     "text": [
      "Best Parameters: {'penalty': 'l2', 'solver': 'liblinear'}\n",
      "Best Score: 0.7890011223344556\n"
     ]
    }
   ],
   "source": [
    "from sklearn.linear_model import LogisticRegression\n",
    "\n",
    "regr = LogisticRegression(class_weight='balanced')\n",
    "\n",
    "param_grid2 = {'penalty' : ('l1', 'l2'), 'solver' : ('liblinear', 'saga') }\n",
    "\n",
    "optmodel(regr, X_opt, y, param_grid2, 10)\n"
   ]
  },
  {
   "cell_type": "code",
   "execution_count": 37,
   "metadata": {
    "ExecuteTime": {
     "end_time": "2019-08-24T14:29:15.845875Z",
     "start_time": "2019-08-24T14:29:15.623295Z"
    }
   },
   "outputs": [
    {
     "name": "stdout",
     "output_type": "stream",
     "text": [
      "Best Parameters: {'solver': 'sag'}\n",
      "Best Score: 0.7845117845117845\n"
     ]
    }
   ],
   "source": [
    "regr2 = LogisticRegression(penalty='l2')\n",
    "\n",
    "param_grid3 = {'solver' : ('newton-cg', 'sag', 'lbfgs') }\n",
    "\n",
    "optmodel(regr2, X_scale, y, param_grid3, 5)"
   ]
  },
  {
   "cell_type": "code",
   "execution_count": 38,
   "metadata": {
    "ExecuteTime": {
     "end_time": "2019-08-24T14:29:21.606751Z",
     "start_time": "2019-08-24T14:29:21.600688Z"
    }
   },
   "outputs": [
    {
     "data": {
      "text/plain": [
       "LogisticRegression(C=1.0, class_weight='balanced', dual=False,\n",
       "          fit_intercept=True, intercept_scaling=1, max_iter=100,\n",
       "          multi_class='warn', n_jobs=None, penalty='l2', random_state=None,\n",
       "          solver='warn', tol=0.0001, verbose=0, warm_start=False)"
      ]
     },
     "execution_count": 38,
     "metadata": {},
     "output_type": "execute_result"
    }
   ],
   "source": [
    "regr"
   ]
  },
  {
   "cell_type": "code",
   "execution_count": 39,
   "metadata": {
    "ExecuteTime": {
     "end_time": "2019-08-24T14:29:25.528110Z",
     "start_time": "2019-08-24T14:29:24.681396Z"
    }
   },
   "outputs": [
    {
     "name": "stdout",
     "output_type": "stream",
     "text": [
      "Best Parameters: {'criterion': 'entropy', 'max_depth': 5, 'splitter': 'best'}\n",
      "Best Score: 0.8249158249158249\n"
     ]
    }
   ],
   "source": [
    "from sklearn.tree import DecisionTreeClassifier\n",
    "\n",
    "Dtree = DecisionTreeClassifier(class_weight='balanced')\n",
    "\n",
    "param_grid4 = {'criterion':('gini','entropy'), 'splitter':('best','random'), 'max_depth': np.arange(1, 10)}\n",
    "\n",
    "optmodel(Dtree, X_opt, y, param_grid4, 5)"
   ]
  },
  {
   "cell_type": "code",
   "execution_count": 40,
   "metadata": {
    "ExecuteTime": {
     "end_time": "2019-08-24T14:29:39.273204Z",
     "start_time": "2019-08-24T14:29:39.253299Z"
    }
   },
   "outputs": [
    {
     "name": "stdout",
     "output_type": "stream",
     "text": [
      "[[140  17]\n",
      " [ 33  78]]\n",
      "              precision    recall  f1-score   support\n",
      "\n",
      "           0       0.81      0.89      0.85       157\n",
      "           1       0.82      0.70      0.76       111\n",
      "\n",
      "   micro avg       0.81      0.81      0.81       268\n",
      "   macro avg       0.82      0.80      0.80       268\n",
      "weighted avg       0.81      0.81      0.81       268\n",
      "\n",
      "Accuracy: 0.8134328358208955\n",
      "0.7972112239628163\n"
     ]
    }
   ],
   "source": [
    "dtree_mod = DecisionTreeClassifier(criterion = 'entropy', splitter='best', max_depth=5, class_weight='balanced')\n",
    "\n",
    "Xd_train, Xd_test, yd_train, yd_test = train_test_split(X_opt, y, test_size=0.3, random_state=42)\n",
    "\n",
    "dtree_mod.fit(Xd_train, yd_train)\n",
    "\n",
    "pred_d = dtree_mod.predict(Xd_test)\n",
    "\n",
    "print(confusion_matrix(yd_test, pred_d))\n",
    "print(classification_report(yd_test, pred_d))\n",
    "print('Accuracy:', dtree_mod.score(Xd_test, yd_test))\n",
    "auc = roc_auc_score(yd_test, pred_d)\n",
    "print(auc)"
   ]
  },
  {
   "cell_type": "code",
   "execution_count": 41,
   "metadata": {
    "ExecuteTime": {
     "end_time": "2019-08-24T14:29:43.644793Z",
     "start_time": "2019-08-24T14:29:43.627452Z"
    }
   },
   "outputs": [
    {
     "data": {
      "text/plain": [
       "Index(['Pclass', 'Age', 'SibSp', 'Parch', 'Fare', 'male'], dtype='object')"
      ]
     },
     "execution_count": 41,
     "metadata": {},
     "output_type": "execute_result"
    }
   ],
   "source": [
    "from IPython.display import Image  \n",
    "from sklearn.tree import export_graphviz\n",
    "from sklearn import tree\n",
    "from IPython.display import SVG\n",
    "from graphviz import Source\n",
    "from IPython.display import display\n",
    "label = X_opt1.columns\n",
    "label"
   ]
  },
  {
   "cell_type": "code",
   "execution_count": 42,
   "metadata": {
    "ExecuteTime": {
     "end_time": "2019-08-24T14:29:46.149185Z",
     "start_time": "2019-08-24T14:29:45.644059Z"
    }
   },
   "outputs": [
    {
     "data": {
      "image/svg+xml": [
       "<svg height=\"671pt\" viewBox=\"0.00 0.00 1744.50 671.00\" width=\"1745pt\" xmlns=\"http://www.w3.org/2000/svg\" xmlns:xlink=\"http://www.w3.org/1999/xlink\">\n",
       "<g class=\"graph\" id=\"graph0\" transform=\"scale(1 1) rotate(0) translate(4 667)\">\n",
       "<title>Tree</title>\n",
       "<polygon fill=\"white\" points=\"-4,4 -4,-667 1740.5,-667 1740.5,4 -4,4\" stroke=\"none\"/>\n",
       "<!-- 0 -->\n",
       "<g class=\"node\" id=\"node1\"><title>0</title>\n",
       "<polygon fill=\"none\" points=\"809,-663 670,-663 670,-580 809,-580 809,-663\" stroke=\"black\"/>\n",
       "<text font-family=\"Times New Roman,serif\" font-size=\"14.00\" text-anchor=\"middle\" x=\"739.5\" y=\"-647.8\">male &lt;= -0.309</text>\n",
       "<text font-family=\"Times New Roman,serif\" font-size=\"14.00\" text-anchor=\"middle\" x=\"739.5\" y=\"-632.8\">entropy = 1.0</text>\n",
       "<text font-family=\"Times New Roman,serif\" font-size=\"14.00\" text-anchor=\"middle\" x=\"739.5\" y=\"-617.8\">samples = 623</text>\n",
       "<text font-family=\"Times New Roman,serif\" font-size=\"14.00\" text-anchor=\"middle\" x=\"739.5\" y=\"-602.8\">value = [311.5, 311.5]</text>\n",
       "<text font-family=\"Times New Roman,serif\" font-size=\"14.00\" text-anchor=\"middle\" x=\"739.5\" y=\"-587.8\">class = survived</text>\n",
       "</g>\n",
       "<!-- 1 -->\n",
       "<g class=\"node\" id=\"node2\"><title>1</title>\n",
       "<polygon fill=\"#399de5\" fill-opacity=\"0.780392\" points=\"700,-544 585,-544 585,-461 700,-461 700,-544\" stroke=\"black\"/>\n",
       "<text font-family=\"Times New Roman,serif\" font-size=\"14.00\" text-anchor=\"middle\" x=\"642.5\" y=\"-528.8\">Pclass &lt;= 0.229</text>\n",
       "<text font-family=\"Times New Roman,serif\" font-size=\"14.00\" text-anchor=\"middle\" x=\"642.5\" y=\"-513.8\">0.682</text>\n",
       "<text font-family=\"Times New Roman,serif\" font-size=\"14.00\" text-anchor=\"middle\" x=\"642.5\" y=\"-498.8\">213</text>\n",
       "<text font-family=\"Times New Roman,serif\" font-size=\"14.00\" text-anchor=\"middle\" x=\"642.5\" y=\"-483.8\">[46.089, 209.015]</text>\n",
       "<text font-family=\"Times New Roman,serif\" font-size=\"14.00\" text-anchor=\"middle\" x=\"642.5\" y=\"-468.8\">survived</text>\n",
       "</g>\n",
       "<!-- 0&#45;&gt;1 -->\n",
       "<g class=\"edge\" id=\"edge1\"><title>0-&gt;1</title>\n",
       "<path d=\"M705.846,-579.907C698.323,-570.832 690.271,-561.121 682.518,-551.769\" fill=\"none\" stroke=\"black\"/>\n",
       "<polygon fill=\"black\" points=\"685.171,-549.485 676.094,-544.021 679.782,-553.953 685.171,-549.485\" stroke=\"black\"/>\n",
       "<text font-family=\"Times New Roman,serif\" font-size=\"14.00\" text-anchor=\"middle\" x=\"673.768\" y=\"-565.212\">True</text>\n",
       "</g>\n",
       "<!-- 22 -->\n",
       "<g class=\"node\" id=\"node23\"><title>22</title>\n",
       "<polygon fill=\"#e58139\" fill-opacity=\"0.615686\" points=\"898.5,-544 776.5,-544 776.5,-461 898.5,-461 898.5,-544\" stroke=\"black\"/>\n",
       "<text font-family=\"Times New Roman,serif\" font-size=\"14.00\" text-anchor=\"middle\" x=\"837.5\" y=\"-528.8\">Age &lt;= -1.785</text>\n",
       "<text font-family=\"Times New Roman,serif\" font-size=\"14.00\" text-anchor=\"middle\" x=\"837.5\" y=\"-513.8\">0.853</text>\n",
       "<text font-family=\"Times New Roman,serif\" font-size=\"14.00\" text-anchor=\"middle\" x=\"837.5\" y=\"-498.8\">410</text>\n",
       "<text font-family=\"Times New Roman,serif\" font-size=\"14.00\" text-anchor=\"middle\" x=\"837.5\" y=\"-483.8\">[265.411, 102.485]</text>\n",
       "<text font-family=\"Times New Roman,serif\" font-size=\"14.00\" text-anchor=\"middle\" x=\"837.5\" y=\"-468.8\">not survive</text>\n",
       "</g>\n",
       "<!-- 0&#45;&gt;22 -->\n",
       "<g class=\"edge\" id=\"edge22\"><title>0-&gt;22</title>\n",
       "<path d=\"M773.501,-579.907C781.102,-570.832 789.236,-561.121 797.069,-551.769\" fill=\"none\" stroke=\"black\"/>\n",
       "<polygon fill=\"black\" points=\"799.821,-553.934 803.559,-544.021 794.455,-549.439 799.821,-553.934\" stroke=\"black\"/>\n",
       "<text font-family=\"Times New Roman,serif\" font-size=\"14.00\" text-anchor=\"middle\" x=\"805.76\" y=\"-565.224\">False</text>\n",
       "</g>\n",
       "<!-- 2 -->\n",
       "<g class=\"node\" id=\"node3\"><title>2</title>\n",
       "<polygon fill=\"#399de5\" fill-opacity=\"0.976471\" points=\"365.5,-425 257.5,-425 257.5,-342 365.5,-342 365.5,-425\" stroke=\"black\"/>\n",
       "<text font-family=\"Times New Roman,serif\" font-size=\"14.00\" text-anchor=\"middle\" x=\"311.5\" y=\"-409.8\">Age &lt;= -2.093</text>\n",
       "<text font-family=\"Times New Roman,serif\" font-size=\"14.00\" text-anchor=\"middle\" x=\"311.5\" y=\"-394.8\">0.151</text>\n",
       "<text font-family=\"Times New Roman,serif\" font-size=\"14.00\" text-anchor=\"middle\" x=\"311.5\" y=\"-379.8\">110</text>\n",
       "<text font-family=\"Times New Roman,serif\" font-size=\"14.00\" text-anchor=\"middle\" x=\"311.5\" y=\"-364.8\">[3.179, 142.939]</text>\n",
       "<text font-family=\"Times New Roman,serif\" font-size=\"14.00\" text-anchor=\"middle\" x=\"311.5\" y=\"-349.8\">survived</text>\n",
       "</g>\n",
       "<!-- 1&#45;&gt;2 -->\n",
       "<g class=\"edge\" id=\"edge2\"><title>1-&gt;2</title>\n",
       "<path d=\"M584.844,-481.12C526.297,-460.425 435.858,-428.457 375.219,-407.023\" fill=\"none\" stroke=\"black\"/>\n",
       "<polygon fill=\"black\" points=\"376.347,-403.71 365.753,-403.677 374.014,-410.31 376.347,-403.71\" stroke=\"black\"/>\n",
       "</g>\n",
       "<!-- 11 -->\n",
       "<g class=\"node\" id=\"node12\"><title>11</title>\n",
       "<polygon fill=\"#399de5\" fill-opacity=\"0.349020\" points=\"696.5,-425 588.5,-425 588.5,-342 696.5,-342 696.5,-425\" stroke=\"black\"/>\n",
       "<text font-family=\"Times New Roman,serif\" font-size=\"14.00\" text-anchor=\"middle\" x=\"642.5\" y=\"-409.8\">Fare &lt;= -0.178</text>\n",
       "<text font-family=\"Times New Roman,serif\" font-size=\"14.00\" text-anchor=\"middle\" x=\"642.5\" y=\"-394.8\">0.967</text>\n",
       "<text font-family=\"Times New Roman,serif\" font-size=\"14.00\" text-anchor=\"middle\" x=\"642.5\" y=\"-379.8\">103</text>\n",
       "<text font-family=\"Times New Roman,serif\" font-size=\"14.00\" text-anchor=\"middle\" x=\"642.5\" y=\"-364.8\">[42.911, 66.076]</text>\n",
       "<text font-family=\"Times New Roman,serif\" font-size=\"14.00\" text-anchor=\"middle\" x=\"642.5\" y=\"-349.8\">survived</text>\n",
       "</g>\n",
       "<!-- 1&#45;&gt;11 -->\n",
       "<g class=\"edge\" id=\"edge11\"><title>1-&gt;11</title>\n",
       "<path d=\"M642.5,-460.907C642.5,-452.649 642.5,-443.864 642.5,-435.302\" fill=\"none\" stroke=\"black\"/>\n",
       "<polygon fill=\"black\" points=\"646,-435.021 642.5,-425.021 639,-435.021 646,-435.021\" stroke=\"black\"/>\n",
       "</g>\n",
       "<!-- 3 -->\n",
       "<g class=\"node\" id=\"node4\"><title>3</title>\n",
       "<polygon fill=\"#399de5\" fill-opacity=\"0.411765\" points=\"195.5,-306 83.5,-306 83.5,-223 195.5,-223 195.5,-306\" stroke=\"black\"/>\n",
       "<text font-family=\"Times New Roman,serif\" font-size=\"14.00\" text-anchor=\"middle\" x=\"139.5\" y=\"-290.8\">Pclass &lt;= -0.968</text>\n",
       "<text font-family=\"Times New Roman,serif\" font-size=\"14.00\" text-anchor=\"middle\" x=\"139.5\" y=\"-275.8\">0.951</text>\n",
       "<text font-family=\"Times New Roman,serif\" font-size=\"14.00\" text-anchor=\"middle\" x=\"139.5\" y=\"-260.8\">2</text>\n",
       "<text font-family=\"Times New Roman,serif\" font-size=\"14.00\" text-anchor=\"middle\" x=\"139.5\" y=\"-245.8\">[0.795, 1.348]</text>\n",
       "<text font-family=\"Times New Roman,serif\" font-size=\"14.00\" text-anchor=\"middle\" x=\"139.5\" y=\"-230.8\">survived</text>\n",
       "</g>\n",
       "<!-- 2&#45;&gt;3 -->\n",
       "<g class=\"edge\" id=\"edge3\"><title>2-&gt;3</title>\n",
       "<path d=\"M257.078,-345.48C240.247,-334.031 221.542,-321.307 204.092,-309.438\" fill=\"none\" stroke=\"black\"/>\n",
       "<polygon fill=\"black\" points=\"205.878,-306.419 195.641,-303.689 201.941,-312.207 205.878,-306.419\" stroke=\"black\"/>\n",
       "</g>\n",
       "<!-- 6 -->\n",
       "<g class=\"node\" id=\"node7\"><title>6</title>\n",
       "<polygon fill=\"#399de5\" fill-opacity=\"0.984314\" points=\"365.5,-306 257.5,-306 257.5,-223 365.5,-223 365.5,-306\" stroke=\"black\"/>\n",
       "<text font-family=\"Times New Roman,serif\" font-size=\"14.00\" text-anchor=\"middle\" x=\"311.5\" y=\"-290.8\">Age &lt;= -0.4</text>\n",
       "<text font-family=\"Times New Roman,serif\" font-size=\"14.00\" text-anchor=\"middle\" x=\"311.5\" y=\"-275.8\">0.122</text>\n",
       "<text font-family=\"Times New Roman,serif\" font-size=\"14.00\" text-anchor=\"middle\" x=\"311.5\" y=\"-260.8\">108</text>\n",
       "<text font-family=\"Times New Roman,serif\" font-size=\"14.00\" text-anchor=\"middle\" x=\"311.5\" y=\"-245.8\">[2.384, 141.591]</text>\n",
       "<text font-family=\"Times New Roman,serif\" font-size=\"14.00\" text-anchor=\"middle\" x=\"311.5\" y=\"-230.8\">survived</text>\n",
       "</g>\n",
       "<!-- 2&#45;&gt;6 -->\n",
       "<g class=\"edge\" id=\"edge6\"><title>2-&gt;6</title>\n",
       "<path d=\"M311.5,-341.907C311.5,-333.649 311.5,-324.864 311.5,-316.302\" fill=\"none\" stroke=\"black\"/>\n",
       "<polygon fill=\"black\" points=\"315,-316.021 311.5,-306.021 308,-316.021 315,-316.021\" stroke=\"black\"/>\n",
       "</g>\n",
       "<!-- 4 -->\n",
       "<g class=\"node\" id=\"node5\"><title>4</title>\n",
       "<polygon fill=\"#e58139\" points=\"81,-179.5 0,-179.5 0,-111.5 81,-111.5 81,-179.5\" stroke=\"black\"/>\n",
       "<text font-family=\"Times New Roman,serif\" font-size=\"14.00\" text-anchor=\"middle\" x=\"40.5\" y=\"-164.3\">0.0</text>\n",
       "<text font-family=\"Times New Roman,serif\" font-size=\"14.00\" text-anchor=\"middle\" x=\"40.5\" y=\"-149.3\">1</text>\n",
       "<text font-family=\"Times New Roman,serif\" font-size=\"14.00\" text-anchor=\"middle\" x=\"40.5\" y=\"-134.3\">[0.795, 0.0]</text>\n",
       "<text font-family=\"Times New Roman,serif\" font-size=\"14.00\" text-anchor=\"middle\" x=\"40.5\" y=\"-119.3\">not survive</text>\n",
       "</g>\n",
       "<!-- 3&#45;&gt;4 -->\n",
       "<g class=\"edge\" id=\"edge4\"><title>3-&gt;4</title>\n",
       "<path d=\"M105.152,-222.907C95.4421,-211.432 84.8708,-198.938 75.1431,-187.442\" fill=\"none\" stroke=\"black\"/>\n",
       "<polygon fill=\"black\" points=\"77.6956,-185.04 68.5643,-179.667 72.3519,-189.562 77.6956,-185.04\" stroke=\"black\"/>\n",
       "</g>\n",
       "<!-- 5 -->\n",
       "<g class=\"node\" id=\"node6\"><title>5</title>\n",
       "<polygon fill=\"#399de5\" points=\"180,-179.5 99,-179.5 99,-111.5 180,-111.5 180,-179.5\" stroke=\"black\"/>\n",
       "<text font-family=\"Times New Roman,serif\" font-size=\"14.00\" text-anchor=\"middle\" x=\"139.5\" y=\"-164.3\">-0.0</text>\n",
       "<text font-family=\"Times New Roman,serif\" font-size=\"14.00\" text-anchor=\"middle\" x=\"139.5\" y=\"-149.3\">1</text>\n",
       "<text font-family=\"Times New Roman,serif\" font-size=\"14.00\" text-anchor=\"middle\" x=\"139.5\" y=\"-134.3\">[0.0, 1.348]</text>\n",
       "<text font-family=\"Times New Roman,serif\" font-size=\"14.00\" text-anchor=\"middle\" x=\"139.5\" y=\"-119.3\">survived</text>\n",
       "</g>\n",
       "<!-- 3&#45;&gt;5 -->\n",
       "<g class=\"edge\" id=\"edge5\"><title>3-&gt;5</title>\n",
       "<path d=\"M139.5,-222.907C139.5,-212.204 139.5,-200.615 139.5,-189.776\" fill=\"none\" stroke=\"black\"/>\n",
       "<polygon fill=\"black\" points=\"143,-189.667 139.5,-179.667 136,-189.667 143,-189.667\" stroke=\"black\"/>\n",
       "</g>\n",
       "<!-- 7 -->\n",
       "<g class=\"node\" id=\"node8\"><title>7</title>\n",
       "<polygon fill=\"#399de5\" points=\"286.5,-179.5 198.5,-179.5 198.5,-111.5 286.5,-111.5 286.5,-179.5\" stroke=\"black\"/>\n",
       "<text font-family=\"Times New Roman,serif\" font-size=\"14.00\" text-anchor=\"middle\" x=\"242.5\" y=\"-164.3\">0.0</text>\n",
       "<text font-family=\"Times New Roman,serif\" font-size=\"14.00\" text-anchor=\"middle\" x=\"242.5\" y=\"-149.3\">34</text>\n",
       "<text font-family=\"Times New Roman,serif\" font-size=\"14.00\" text-anchor=\"middle\" x=\"242.5\" y=\"-134.3\">[0.0, 45.848]</text>\n",
       "<text font-family=\"Times New Roman,serif\" font-size=\"14.00\" text-anchor=\"middle\" x=\"242.5\" y=\"-119.3\">survived</text>\n",
       "</g>\n",
       "<!-- 6&#45;&gt;7 -->\n",
       "<g class=\"edge\" id=\"edge7\"><title>6-&gt;7</title>\n",
       "<path d=\"M287.561,-222.907C280.988,-211.763 273.85,-199.658 267.233,-188.439\" fill=\"none\" stroke=\"black\"/>\n",
       "<polygon fill=\"black\" points=\"270.155,-186.503 262.06,-179.667 264.125,-190.059 270.155,-186.503\" stroke=\"black\"/>\n",
       "</g>\n",
       "<!-- 8 -->\n",
       "<g class=\"node\" id=\"node9\"><title>8</title>\n",
       "<polygon fill=\"#399de5\" fill-opacity=\"0.976471\" points=\"406,-187 305,-187 305,-104 406,-104 406,-187\" stroke=\"black\"/>\n",
       "<text font-family=\"Times New Roman,serif\" font-size=\"14.00\" text-anchor=\"middle\" x=\"355.5\" y=\"-171.8\">Age &lt;= -0.169</text>\n",
       "<text font-family=\"Times New Roman,serif\" font-size=\"14.00\" text-anchor=\"middle\" x=\"355.5\" y=\"-156.8\">0.165</text>\n",
       "<text font-family=\"Times New Roman,serif\" font-size=\"14.00\" text-anchor=\"middle\" x=\"355.5\" y=\"-141.8\">74</text>\n",
       "<text font-family=\"Times New Roman,serif\" font-size=\"14.00\" text-anchor=\"middle\" x=\"355.5\" y=\"-126.8\">[2.384, 95.742]</text>\n",
       "<text font-family=\"Times New Roman,serif\" font-size=\"14.00\" text-anchor=\"middle\" x=\"355.5\" y=\"-111.8\">survived</text>\n",
       "</g>\n",
       "<!-- 6&#45;&gt;8 -->\n",
       "<g class=\"edge\" id=\"edge8\"><title>6-&gt;8</title>\n",
       "<path d=\"M326.766,-222.907C329.974,-214.377 333.393,-205.284 336.713,-196.456\" fill=\"none\" stroke=\"black\"/>\n",
       "<polygon fill=\"black\" points=\"340.017,-197.613 340.261,-187.021 333.465,-195.149 340.017,-197.613\" stroke=\"black\"/>\n",
       "</g>\n",
       "<!-- 9 -->\n",
       "<g class=\"node\" id=\"node10\"><title>9</title>\n",
       "<polygon fill=\"#399de5\" fill-opacity=\"0.411765\" points=\"288,-68 193,-68 193,-0 288,-0 288,-68\" stroke=\"black\"/>\n",
       "<text font-family=\"Times New Roman,serif\" font-size=\"14.00\" text-anchor=\"middle\" x=\"240.5\" y=\"-52.8\">0.951</text>\n",
       "<text font-family=\"Times New Roman,serif\" font-size=\"14.00\" text-anchor=\"middle\" x=\"240.5\" y=\"-37.8\">4</text>\n",
       "<text font-family=\"Times New Roman,serif\" font-size=\"14.00\" text-anchor=\"middle\" x=\"240.5\" y=\"-22.8\">[1.589, 2.697]</text>\n",
       "<text font-family=\"Times New Roman,serif\" font-size=\"14.00\" text-anchor=\"middle\" x=\"240.5\" y=\"-7.8\">survived</text>\n",
       "</g>\n",
       "<!-- 8&#45;&gt;9 -->\n",
       "<g class=\"edge\" id=\"edge9\"><title>8-&gt;9</title>\n",
       "<path d=\"M312.678,-103.726C302.908,-94.423 292.531,-84.5428 282.783,-75.2612\" fill=\"none\" stroke=\"black\"/>\n",
       "<polygon fill=\"black\" points=\"285.128,-72.6606 275.472,-68.2996 280.301,-77.7301 285.128,-72.6606\" stroke=\"black\"/>\n",
       "</g>\n",
       "<!-- 10 -->\n",
       "<g class=\"node\" id=\"node11\"><title>10</title>\n",
       "<polygon fill=\"#399de5\" fill-opacity=\"0.992157\" points=\"407,-68 306,-68 306,-0 407,-0 407,-68\" stroke=\"black\"/>\n",
       "<text font-family=\"Times New Roman,serif\" font-size=\"14.00\" text-anchor=\"middle\" x=\"356.5\" y=\"-52.8\">0.07</text>\n",
       "<text font-family=\"Times New Roman,serif\" font-size=\"14.00\" text-anchor=\"middle\" x=\"356.5\" y=\"-37.8\">70</text>\n",
       "<text font-family=\"Times New Roman,serif\" font-size=\"14.00\" text-anchor=\"middle\" x=\"356.5\" y=\"-22.8\">[0.795, 93.045]</text>\n",
       "<text font-family=\"Times New Roman,serif\" font-size=\"14.00\" text-anchor=\"middle\" x=\"356.5\" y=\"-7.8\">survived</text>\n",
       "</g>\n",
       "<!-- 8&#45;&gt;10 -->\n",
       "<g class=\"edge\" id=\"edge10\"><title>8-&gt;10</title>\n",
       "<path d=\"M355.872,-103.726C355.947,-95.5175 356.026,-86.8595 356.102,-78.56\" fill=\"none\" stroke=\"black\"/>\n",
       "<polygon fill=\"black\" points=\"359.604,-78.3312 356.196,-68.2996 352.605,-78.2672 359.604,-78.3312\" stroke=\"black\"/>\n",
       "</g>\n",
       "<!-- 12 -->\n",
       "<g class=\"node\" id=\"node13\"><title>12</title>\n",
       "<polygon fill=\"#399de5\" fill-opacity=\"0.545098\" points=\"638.5,-306 530.5,-306 530.5,-223 638.5,-223 638.5,-306\" stroke=\"black\"/>\n",
       "<text font-family=\"Times New Roman,serif\" font-size=\"14.00\" text-anchor=\"middle\" x=\"584.5\" y=\"-290.8\">Age &lt;= 0.523</text>\n",
       "<text font-family=\"Times New Roman,serif\" font-size=\"14.00\" text-anchor=\"middle\" x=\"584.5\" y=\"-275.8\">0.896</text>\n",
       "<text font-family=\"Times New Roman,serif\" font-size=\"14.00\" text-anchor=\"middle\" x=\"584.5\" y=\"-260.8\">85</text>\n",
       "<text font-family=\"Times New Roman,serif\" font-size=\"14.00\" text-anchor=\"middle\" x=\"584.5\" y=\"-245.8\">[29.402, 64.727]</text>\n",
       "<text font-family=\"Times New Roman,serif\" font-size=\"14.00\" text-anchor=\"middle\" x=\"584.5\" y=\"-230.8\">survived</text>\n",
       "</g>\n",
       "<!-- 11&#45;&gt;12 -->\n",
       "<g class=\"edge\" id=\"edge12\"><title>11-&gt;12</title>\n",
       "<path d=\"M622.377,-341.907C618.103,-333.286 613.545,-324.09 609.125,-315.175\" fill=\"none\" stroke=\"black\"/>\n",
       "<polygon fill=\"black\" points=\"612.165,-313.426 604.587,-306.021 605.893,-316.535 612.165,-313.426\" stroke=\"black\"/>\n",
       "</g>\n",
       "<!-- 17 -->\n",
       "<g class=\"node\" id=\"node18\"><title>17</title>\n",
       "<polygon fill=\"#e58139\" fill-opacity=\"0.901961\" points=\"758,-306 657,-306 657,-223 758,-223 758,-306\" stroke=\"black\"/>\n",
       "<text font-family=\"Times New Roman,serif\" font-size=\"14.00\" text-anchor=\"middle\" x=\"707.5\" y=\"-290.8\">Age &lt;= -1.747</text>\n",
       "<text font-family=\"Times New Roman,serif\" font-size=\"14.00\" text-anchor=\"middle\" x=\"707.5\" y=\"-275.8\">0.439</text>\n",
       "<text font-family=\"Times New Roman,serif\" font-size=\"14.00\" text-anchor=\"middle\" x=\"707.5\" y=\"-260.8\">18</text>\n",
       "<text font-family=\"Times New Roman,serif\" font-size=\"14.00\" text-anchor=\"middle\" x=\"707.5\" y=\"-245.8\">[13.509, 1.348]</text>\n",
       "<text font-family=\"Times New Roman,serif\" font-size=\"14.00\" text-anchor=\"middle\" x=\"707.5\" y=\"-230.8\">not survive</text>\n",
       "</g>\n",
       "<!-- 11&#45;&gt;17 -->\n",
       "<g class=\"edge\" id=\"edge17\"><title>11-&gt;17</title>\n",
       "<path d=\"M665.051,-341.907C669.891,-333.195 675.057,-323.897 680.059,-314.893\" fill=\"none\" stroke=\"black\"/>\n",
       "<polygon fill=\"black\" points=\"683.192,-316.462 684.988,-306.021 677.072,-313.063 683.192,-316.462\" stroke=\"black\"/>\n",
       "</g>\n",
       "<!-- 13 -->\n",
       "<g class=\"node\" id=\"node14\"><title>13</title>\n",
       "<polygon fill=\"#399de5\" fill-opacity=\"0.596078\" points=\"532.5,-187 424.5,-187 424.5,-104 532.5,-104 532.5,-187\" stroke=\"black\"/>\n",
       "<text font-family=\"Times New Roman,serif\" font-size=\"14.00\" text-anchor=\"middle\" x=\"478.5\" y=\"-171.8\">Age &lt;= -2.17</text>\n",
       "<text font-family=\"Times New Roman,serif\" font-size=\"14.00\" text-anchor=\"middle\" x=\"478.5\" y=\"-156.8\">0.867</text>\n",
       "<text font-family=\"Times New Roman,serif\" font-size=\"14.00\" text-anchor=\"middle\" x=\"478.5\" y=\"-141.8\">81</text>\n",
       "<text font-family=\"Times New Roman,serif\" font-size=\"14.00\" text-anchor=\"middle\" x=\"478.5\" y=\"-126.8\">[26.223, 64.727]</text>\n",
       "<text font-family=\"Times New Roman,serif\" font-size=\"14.00\" text-anchor=\"middle\" x=\"478.5\" y=\"-111.8\">survived</text>\n",
       "</g>\n",
       "<!-- 12&#45;&gt;13 -->\n",
       "<g class=\"edge\" id=\"edge13\"><title>12-&gt;13</title>\n",
       "<path d=\"M547.724,-222.907C539.42,-213.742 530.528,-203.927 521.977,-194.489\" fill=\"none\" stroke=\"black\"/>\n",
       "<polygon fill=\"black\" points=\"524.519,-192.082 515.211,-187.021 519.331,-196.782 524.519,-192.082\" stroke=\"black\"/>\n",
       "</g>\n",
       "<!-- 16 -->\n",
       "<g class=\"node\" id=\"node17\"><title>16</title>\n",
       "<polygon fill=\"#e58139\" points=\"632,-179.5 551,-179.5 551,-111.5 632,-111.5 632,-179.5\" stroke=\"black\"/>\n",
       "<text font-family=\"Times New Roman,serif\" font-size=\"14.00\" text-anchor=\"middle\" x=\"591.5\" y=\"-164.3\">0.0</text>\n",
       "<text font-family=\"Times New Roman,serif\" font-size=\"14.00\" text-anchor=\"middle\" x=\"591.5\" y=\"-149.3\">4</text>\n",
       "<text font-family=\"Times New Roman,serif\" font-size=\"14.00\" text-anchor=\"middle\" x=\"591.5\" y=\"-134.3\">[3.179, 0.0]</text>\n",
       "<text font-family=\"Times New Roman,serif\" font-size=\"14.00\" text-anchor=\"middle\" x=\"591.5\" y=\"-119.3\">not survive</text>\n",
       "</g>\n",
       "<!-- 12&#45;&gt;16 -->\n",
       "<g class=\"edge\" id=\"edge16\"><title>12-&gt;16</title>\n",
       "<path d=\"M586.929,-222.907C587.569,-212.204 588.262,-200.615 588.911,-189.776\" fill=\"none\" stroke=\"black\"/>\n",
       "<polygon fill=\"black\" points=\"592.412,-189.858 589.516,-179.667 585.425,-189.44 592.412,-189.858\" stroke=\"black\"/>\n",
       "</g>\n",
       "<!-- 14 -->\n",
       "<g class=\"node\" id=\"node15\"><title>14</title>\n",
       "<polygon fill=\"#399de5\" points=\"508,-68 427,-68 427,-0 508,-0 508,-68\" stroke=\"black\"/>\n",
       "<text font-family=\"Times New Roman,serif\" font-size=\"14.00\" text-anchor=\"middle\" x=\"467.5\" y=\"-52.8\">0.0</text>\n",
       "<text font-family=\"Times New Roman,serif\" font-size=\"14.00\" text-anchor=\"middle\" x=\"467.5\" y=\"-37.8\">4</text>\n",
       "<text font-family=\"Times New Roman,serif\" font-size=\"14.00\" text-anchor=\"middle\" x=\"467.5\" y=\"-22.8\">[0.0, 5.394]</text>\n",
       "<text font-family=\"Times New Roman,serif\" font-size=\"14.00\" text-anchor=\"middle\" x=\"467.5\" y=\"-7.8\">survived</text>\n",
       "</g>\n",
       "<!-- 13&#45;&gt;14 -->\n",
       "<g class=\"edge\" id=\"edge14\"><title>13-&gt;14</title>\n",
       "<path d=\"M474.404,-103.726C473.57,-95.4263 472.69,-86.6671 471.848,-78.2834\" fill=\"none\" stroke=\"black\"/>\n",
       "<polygon fill=\"black\" points=\"475.327,-77.8997 470.845,-68.2996 468.362,-78.5994 475.327,-77.8997\" stroke=\"black\"/>\n",
       "</g>\n",
       "<!-- 15 -->\n",
       "<g class=\"node\" id=\"node16\"><title>15</title>\n",
       "<polygon fill=\"#399de5\" fill-opacity=\"0.556863\" points=\"634.5,-68 526.5,-68 526.5,-0 634.5,-0 634.5,-68\" stroke=\"black\"/>\n",
       "<text font-family=\"Times New Roman,serif\" font-size=\"14.00\" text-anchor=\"middle\" x=\"580.5\" y=\"-52.8\">0.889</text>\n",
       "<text font-family=\"Times New Roman,serif\" font-size=\"14.00\" text-anchor=\"middle\" x=\"580.5\" y=\"-37.8\">77</text>\n",
       "<text font-family=\"Times New Roman,serif\" font-size=\"14.00\" text-anchor=\"middle\" x=\"580.5\" y=\"-22.8\">[26.223, 59.333]</text>\n",
       "<text font-family=\"Times New Roman,serif\" font-size=\"14.00\" text-anchor=\"middle\" x=\"580.5\" y=\"-7.8\">survived</text>\n",
       "</g>\n",
       "<!-- 13&#45;&gt;15 -->\n",
       "<g class=\"edge\" id=\"edge15\"><title>13-&gt;15</title>\n",
       "<path d=\"M516.481,-103.726C524.977,-94.6054 533.99,-84.93 542.487,-75.8078\" fill=\"none\" stroke=\"black\"/>\n",
       "<polygon fill=\"black\" points=\"545.226,-78.0025 549.481,-68.2996 540.104,-73.2312 545.226,-78.0025\" stroke=\"black\"/>\n",
       "</g>\n",
       "<!-- 18 -->\n",
       "<g class=\"node\" id=\"node19\"><title>18</title>\n",
       "<polygon fill=\"#e58139\" fill-opacity=\"0.152941\" points=\"751,-187 650,-187 650,-104 751,-104 751,-187\" stroke=\"black\"/>\n",
       "<text font-family=\"Times New Roman,serif\" font-size=\"14.00\" text-anchor=\"middle\" x=\"700.5\" y=\"-171.8\">Fare &lt;= -0.018</text>\n",
       "<text font-family=\"Times New Roman,serif\" font-size=\"14.00\" text-anchor=\"middle\" x=\"700.5\" y=\"-156.8\">0.995</text>\n",
       "<text font-family=\"Times New Roman,serif\" font-size=\"14.00\" text-anchor=\"middle\" x=\"700.5\" y=\"-141.8\">3</text>\n",
       "<text font-family=\"Times New Roman,serif\" font-size=\"14.00\" text-anchor=\"middle\" x=\"700.5\" y=\"-126.8\">[1.589, 1.348]</text>\n",
       "<text font-family=\"Times New Roman,serif\" font-size=\"14.00\" text-anchor=\"middle\" x=\"700.5\" y=\"-111.8\">not survive</text>\n",
       "</g>\n",
       "<!-- 17&#45;&gt;18 -->\n",
       "<g class=\"edge\" id=\"edge18\"><title>17-&gt;18</title>\n",
       "<path d=\"M705.071,-222.907C704.572,-214.558 704.04,-205.671 703.523,-197.02\" fill=\"none\" stroke=\"black\"/>\n",
       "<polygon fill=\"black\" points=\"707.015,-196.794 702.924,-187.021 700.028,-197.212 707.015,-196.794\" stroke=\"black\"/>\n",
       "</g>\n",
       "<!-- 21 -->\n",
       "<g class=\"node\" id=\"node22\"><title>21</title>\n",
       "<polygon fill=\"#e58139\" points=\"850,-179.5 769,-179.5 769,-111.5 850,-111.5 850,-179.5\" stroke=\"black\"/>\n",
       "<text font-family=\"Times New Roman,serif\" font-size=\"14.00\" text-anchor=\"middle\" x=\"809.5\" y=\"-164.3\">0.0</text>\n",
       "<text font-family=\"Times New Roman,serif\" font-size=\"14.00\" text-anchor=\"middle\" x=\"809.5\" y=\"-149.3\">15</text>\n",
       "<text font-family=\"Times New Roman,serif\" font-size=\"14.00\" text-anchor=\"middle\" x=\"809.5\" y=\"-134.3\">[11.92, 0.0]</text>\n",
       "<text font-family=\"Times New Roman,serif\" font-size=\"14.00\" text-anchor=\"middle\" x=\"809.5\" y=\"-119.3\">not survive</text>\n",
       "</g>\n",
       "<!-- 17&#45;&gt;21 -->\n",
       "<g class=\"edge\" id=\"edge21\"><title>17-&gt;21</title>\n",
       "<path d=\"M742.888,-222.907C752.893,-211.432 763.785,-198.938 773.807,-187.442\" fill=\"none\" stroke=\"black\"/>\n",
       "<polygon fill=\"black\" points=\"776.652,-189.505 780.585,-179.667 771.376,-184.905 776.652,-189.505\" stroke=\"black\"/>\n",
       "</g>\n",
       "<!-- 19 -->\n",
       "<g class=\"node\" id=\"node20\"><title>19</title>\n",
       "<polygon fill=\"#e58139\" points=\"739,-68 658,-68 658,-0 739,-0 739,-68\" stroke=\"black\"/>\n",
       "<text font-family=\"Times New Roman,serif\" font-size=\"14.00\" text-anchor=\"middle\" x=\"698.5\" y=\"-52.8\">0.0</text>\n",
       "<text font-family=\"Times New Roman,serif\" font-size=\"14.00\" text-anchor=\"middle\" x=\"698.5\" y=\"-37.8\">2</text>\n",
       "<text font-family=\"Times New Roman,serif\" font-size=\"14.00\" text-anchor=\"middle\" x=\"698.5\" y=\"-22.8\">[1.589, 0.0]</text>\n",
       "<text font-family=\"Times New Roman,serif\" font-size=\"14.00\" text-anchor=\"middle\" x=\"698.5\" y=\"-7.8\">not survive</text>\n",
       "</g>\n",
       "<!-- 18&#45;&gt;19 -->\n",
       "<g class=\"edge\" id=\"edge19\"><title>18-&gt;19</title>\n",
       "<path d=\"M699.755,-103.726C699.605,-95.5175 699.447,-86.8595 699.296,-78.56\" fill=\"none\" stroke=\"black\"/>\n",
       "<polygon fill=\"black\" points=\"702.79,-78.234 699.108,-68.2996 695.792,-78.3619 702.79,-78.234\" stroke=\"black\"/>\n",
       "</g>\n",
       "<!-- 20 -->\n",
       "<g class=\"node\" id=\"node21\"><title>20</title>\n",
       "<polygon fill=\"#399de5\" points=\"838,-68 757,-68 757,-0 838,-0 838,-68\" stroke=\"black\"/>\n",
       "<text font-family=\"Times New Roman,serif\" font-size=\"14.00\" text-anchor=\"middle\" x=\"797.5\" y=\"-52.8\">0.0</text>\n",
       "<text font-family=\"Times New Roman,serif\" font-size=\"14.00\" text-anchor=\"middle\" x=\"797.5\" y=\"-37.8\">1</text>\n",
       "<text font-family=\"Times New Roman,serif\" font-size=\"14.00\" text-anchor=\"middle\" x=\"797.5\" y=\"-22.8\">[0.0, 1.348]</text>\n",
       "<text font-family=\"Times New Roman,serif\" font-size=\"14.00\" text-anchor=\"middle\" x=\"797.5\" y=\"-7.8\">survived</text>\n",
       "</g>\n",
       "<!-- 18&#45;&gt;20 -->\n",
       "<g class=\"edge\" id=\"edge20\"><title>18-&gt;20</title>\n",
       "<path d=\"M736.619,-103.726C744.699,-94.6054 753.27,-84.93 761.351,-75.8078\" fill=\"none\" stroke=\"black\"/>\n",
       "<polygon fill=\"black\" points=\"763.991,-78.1058 768.002,-68.2996 758.751,-73.4642 763.991,-78.1058\" stroke=\"black\"/>\n",
       "</g>\n",
       "<!-- 23 -->\n",
       "<g class=\"node\" id=\"node24\"><title>23</title>\n",
       "<polygon fill=\"#399de5\" fill-opacity=\"0.749020\" points=\"890.5,-425 784.5,-425 784.5,-342 890.5,-342 890.5,-425\" stroke=\"black\"/>\n",
       "<text font-family=\"Times New Roman,serif\" font-size=\"14.00\" text-anchor=\"middle\" x=\"837.5\" y=\"-409.8\">SibSp &lt;= 2.247</text>\n",
       "<text font-family=\"Times New Roman,serif\" font-size=\"14.00\" text-anchor=\"middle\" x=\"837.5\" y=\"-394.8\">0.725</text>\n",
       "<text font-family=\"Times New Roman,serif\" font-size=\"14.00\" text-anchor=\"middle\" x=\"837.5\" y=\"-379.8\">20</text>\n",
       "<text font-family=\"Times New Roman,serif\" font-size=\"14.00\" text-anchor=\"middle\" x=\"837.5\" y=\"-364.8\">[4.768, 18.879]</text>\n",
       "<text font-family=\"Times New Roman,serif\" font-size=\"14.00\" text-anchor=\"middle\" x=\"837.5\" y=\"-349.8\">survived</text>\n",
       "</g>\n",
       "<!-- 22&#45;&gt;23 -->\n",
       "<g class=\"edge\" id=\"edge23\"><title>22-&gt;23</title>\n",
       "<path d=\"M837.5,-460.907C837.5,-452.649 837.5,-443.864 837.5,-435.302\" fill=\"none\" stroke=\"black\"/>\n",
       "<polygon fill=\"black\" points=\"841,-435.021 837.5,-425.021 834,-435.021 841,-435.021\" stroke=\"black\"/>\n",
       "</g>\n",
       "<!-- 30 -->\n",
       "<g class=\"node\" id=\"node31\"><title>30</title>\n",
       "<polygon fill=\"#e58139\" fill-opacity=\"0.678431\" points=\"1334,-425 1219,-425 1219,-342 1334,-342 1334,-425\" stroke=\"black\"/>\n",
       "<text font-family=\"Times New Roman,serif\" font-size=\"14.00\" text-anchor=\"middle\" x=\"1276.5\" y=\"-409.8\">Fare &lt;= -0.12</text>\n",
       "<text font-family=\"Times New Roman,serif\" font-size=\"14.00\" text-anchor=\"middle\" x=\"1276.5\" y=\"-394.8\">0.8</text>\n",
       "<text font-family=\"Times New Roman,serif\" font-size=\"14.00\" text-anchor=\"middle\" x=\"1276.5\" y=\"-379.8\">390</text>\n",
       "<text font-family=\"Times New Roman,serif\" font-size=\"14.00\" text-anchor=\"middle\" x=\"1276.5\" y=\"-364.8\">[260.643, 83.606]</text>\n",
       "<text font-family=\"Times New Roman,serif\" font-size=\"14.00\" text-anchor=\"middle\" x=\"1276.5\" y=\"-349.8\">not survive</text>\n",
       "</g>\n",
       "<!-- 22&#45;&gt;30 -->\n",
       "<g class=\"edge\" id=\"edge30\"><title>22-&gt;30</title>\n",
       "<path d=\"M898.541,-485.232C980.125,-463.488 1124.25,-425.078 1208.99,-402.492\" fill=\"none\" stroke=\"black\"/>\n",
       "<polygon fill=\"black\" points=\"1210.01,-405.843 1218.77,-399.886 1208.21,-399.079 1210.01,-405.843\" stroke=\"black\"/>\n",
       "</g>\n",
       "<!-- 24 -->\n",
       "<g class=\"node\" id=\"node25\"><title>24</title>\n",
       "<polygon fill=\"#399de5\" points=\"871,-298.5 790,-298.5 790,-230.5 871,-230.5 871,-298.5\" stroke=\"black\"/>\n",
       "<text font-family=\"Times New Roman,serif\" font-size=\"14.00\" text-anchor=\"middle\" x=\"830.5\" y=\"-283.3\">-0.0</text>\n",
       "<text font-family=\"Times New Roman,serif\" font-size=\"14.00\" text-anchor=\"middle\" x=\"830.5\" y=\"-268.3\">13</text>\n",
       "<text font-family=\"Times New Roman,serif\" font-size=\"14.00\" text-anchor=\"middle\" x=\"830.5\" y=\"-253.3\">[0.0, 17.53]</text>\n",
       "<text font-family=\"Times New Roman,serif\" font-size=\"14.00\" text-anchor=\"middle\" x=\"830.5\" y=\"-238.3\">survived</text>\n",
       "</g>\n",
       "<!-- 23&#45;&gt;24 -->\n",
       "<g class=\"edge\" id=\"edge24\"><title>23-&gt;24</title>\n",
       "<path d=\"M835.071,-341.907C834.431,-331.204 833.738,-319.615 833.089,-308.776\" fill=\"none\" stroke=\"black\"/>\n",
       "<polygon fill=\"black\" points=\"836.575,-308.44 832.484,-298.667 829.588,-308.858 836.575,-308.44\" stroke=\"black\"/>\n",
       "</g>\n",
       "<!-- 25 -->\n",
       "<g class=\"node\" id=\"node26\"><title>25</title>\n",
       "<polygon fill=\"#e58139\" fill-opacity=\"0.717647\" points=\"993.5,-306 889.5,-306 889.5,-223 993.5,-223 993.5,-306\" stroke=\"black\"/>\n",
       "<text font-family=\"Times New Roman,serif\" font-size=\"14.00\" text-anchor=\"middle\" x=\"941.5\" y=\"-290.8\">Parch &lt;= 1.388</text>\n",
       "<text font-family=\"Times New Roman,serif\" font-size=\"14.00\" text-anchor=\"middle\" x=\"941.5\" y=\"-275.8\">0.761</text>\n",
       "<text font-family=\"Times New Roman,serif\" font-size=\"14.00\" text-anchor=\"middle\" x=\"941.5\" y=\"-260.8\">7</text>\n",
       "<text font-family=\"Times New Roman,serif\" font-size=\"14.00\" text-anchor=\"middle\" x=\"941.5\" y=\"-245.8\">[4.768, 1.348]</text>\n",
       "<text font-family=\"Times New Roman,serif\" font-size=\"14.00\" text-anchor=\"middle\" x=\"941.5\" y=\"-230.8\">not survive</text>\n",
       "</g>\n",
       "<!-- 23&#45;&gt;25 -->\n",
       "<g class=\"edge\" id=\"edge25\"><title>23-&gt;25</title>\n",
       "<path d=\"M873.582,-341.907C881.649,-332.832 890.281,-323.121 898.594,-313.769\" fill=\"none\" stroke=\"black\"/>\n",
       "<polygon fill=\"black\" points=\"901.454,-315.82 905.482,-306.021 896.222,-311.17 901.454,-315.82\" stroke=\"black\"/>\n",
       "</g>\n",
       "<!-- 26 -->\n",
       "<g class=\"node\" id=\"node27\"><title>26</title>\n",
       "<polygon fill=\"#e58139\" points=\"949,-179.5 868,-179.5 868,-111.5 949,-111.5 949,-179.5\" stroke=\"black\"/>\n",
       "<text font-family=\"Times New Roman,serif\" font-size=\"14.00\" text-anchor=\"middle\" x=\"908.5\" y=\"-164.3\">0.0</text>\n",
       "<text font-family=\"Times New Roman,serif\" font-size=\"14.00\" text-anchor=\"middle\" x=\"908.5\" y=\"-149.3\">4</text>\n",
       "<text font-family=\"Times New Roman,serif\" font-size=\"14.00\" text-anchor=\"middle\" x=\"908.5\" y=\"-134.3\">[3.179, 0.0]</text>\n",
       "<text font-family=\"Times New Roman,serif\" font-size=\"14.00\" text-anchor=\"middle\" x=\"908.5\" y=\"-119.3\">not survive</text>\n",
       "</g>\n",
       "<!-- 25&#45;&gt;26 -->\n",
       "<g class=\"edge\" id=\"edge26\"><title>25-&gt;26</title>\n",
       "<path d=\"M930.051,-222.907C927.001,-212.094 923.696,-200.376 920.612,-189.441\" fill=\"none\" stroke=\"black\"/>\n",
       "<polygon fill=\"black\" points=\"923.938,-188.341 917.855,-179.667 917.201,-190.242 923.938,-188.341\" stroke=\"black\"/>\n",
       "</g>\n",
       "<!-- 27 -->\n",
       "<g class=\"node\" id=\"node28\"><title>27</title>\n",
       "<polygon fill=\"#e58139\" fill-opacity=\"0.152941\" points=\"1073.5,-187 967.5,-187 967.5,-104 1073.5,-104 1073.5,-187\" stroke=\"black\"/>\n",
       "<text font-family=\"Times New Roman,serif\" font-size=\"14.00\" text-anchor=\"middle\" x=\"1020.5\" y=\"-171.8\">SibSp &lt;= 3.608</text>\n",
       "<text font-family=\"Times New Roman,serif\" font-size=\"14.00\" text-anchor=\"middle\" x=\"1020.5\" y=\"-156.8\">0.995</text>\n",
       "<text font-family=\"Times New Roman,serif\" font-size=\"14.00\" text-anchor=\"middle\" x=\"1020.5\" y=\"-141.8\">3</text>\n",
       "<text font-family=\"Times New Roman,serif\" font-size=\"14.00\" text-anchor=\"middle\" x=\"1020.5\" y=\"-126.8\">[1.589, 1.348]</text>\n",
       "<text font-family=\"Times New Roman,serif\" font-size=\"14.00\" text-anchor=\"middle\" x=\"1020.5\" y=\"-111.8\">not survive</text>\n",
       "</g>\n",
       "<!-- 25&#45;&gt;27 -->\n",
       "<g class=\"edge\" id=\"edge27\"><title>25-&gt;27</title>\n",
       "<path d=\"M968.909,-222.907C974.914,-214.014 981.331,-204.509 987.529,-195.331\" fill=\"none\" stroke=\"black\"/>\n",
       "<polygon fill=\"black\" points=\"990.444,-197.267 993.14,-187.021 984.643,-193.35 990.444,-197.267\" stroke=\"black\"/>\n",
       "</g>\n",
       "<!-- 28 -->\n",
       "<g class=\"node\" id=\"node29\"><title>28</title>\n",
       "<polygon fill=\"#399de5\" fill-opacity=\"0.411765\" points=\"962,-68 867,-68 867,-0 962,-0 962,-68\" stroke=\"black\"/>\n",
       "<text font-family=\"Times New Roman,serif\" font-size=\"14.00\" text-anchor=\"middle\" x=\"914.5\" y=\"-52.8\">0.951</text>\n",
       "<text font-family=\"Times New Roman,serif\" font-size=\"14.00\" text-anchor=\"middle\" x=\"914.5\" y=\"-37.8\">2</text>\n",
       "<text font-family=\"Times New Roman,serif\" font-size=\"14.00\" text-anchor=\"middle\" x=\"914.5\" y=\"-22.8\">[0.795, 1.348]</text>\n",
       "<text font-family=\"Times New Roman,serif\" font-size=\"14.00\" text-anchor=\"middle\" x=\"914.5\" y=\"-7.8\">survived</text>\n",
       "</g>\n",
       "<!-- 27&#45;&gt;28 -->\n",
       "<g class=\"edge\" id=\"edge28\"><title>27-&gt;28</title>\n",
       "<path d=\"M981.03,-103.726C972.112,-94.5142 962.647,-84.7364 953.739,-75.5343\" fill=\"none\" stroke=\"black\"/>\n",
       "<polygon fill=\"black\" points=\"956.205,-73.0502 946.735,-68.2996 951.176,-77.919 956.205,-73.0502\" stroke=\"black\"/>\n",
       "</g>\n",
       "<!-- 29 -->\n",
       "<g class=\"node\" id=\"node30\"><title>29</title>\n",
       "<polygon fill=\"#e58139\" points=\"1061,-68 980,-68 980,-0 1061,-0 1061,-68\" stroke=\"black\"/>\n",
       "<text font-family=\"Times New Roman,serif\" font-size=\"14.00\" text-anchor=\"middle\" x=\"1020.5\" y=\"-52.8\">0.0</text>\n",
       "<text font-family=\"Times New Roman,serif\" font-size=\"14.00\" text-anchor=\"middle\" x=\"1020.5\" y=\"-37.8\">1</text>\n",
       "<text font-family=\"Times New Roman,serif\" font-size=\"14.00\" text-anchor=\"middle\" x=\"1020.5\" y=\"-22.8\">[0.795, 0.0]</text>\n",
       "<text font-family=\"Times New Roman,serif\" font-size=\"14.00\" text-anchor=\"middle\" x=\"1020.5\" y=\"-7.8\">not survive</text>\n",
       "</g>\n",
       "<!-- 27&#45;&gt;29 -->\n",
       "<g class=\"edge\" id=\"edge29\"><title>27-&gt;29</title>\n",
       "<path d=\"M1020.5,-103.726C1020.5,-95.5175 1020.5,-86.8595 1020.5,-78.56\" fill=\"none\" stroke=\"black\"/>\n",
       "<polygon fill=\"black\" points=\"1024,-78.2996 1020.5,-68.2996 1017,-78.2996 1024,-78.2996\" stroke=\"black\"/>\n",
       "</g>\n",
       "<!-- 31 -->\n",
       "<g class=\"node\" id=\"node32\"><title>31</title>\n",
       "<polygon fill=\"#e58139\" fill-opacity=\"0.780392\" points=\"1327,-306 1226,-306 1226,-223 1327,-223 1327,-306\" stroke=\"black\"/>\n",
       "<text font-family=\"Times New Roman,serif\" font-size=\"14.00\" text-anchor=\"middle\" x=\"1276.5\" y=\"-290.8\">Age &lt;= -1.247</text>\n",
       "<text font-family=\"Times New Roman,serif\" font-size=\"14.00\" text-anchor=\"middle\" x=\"1276.5\" y=\"-275.8\">0.68</text>\n",
       "<text font-family=\"Times New Roman,serif\" font-size=\"14.00\" text-anchor=\"middle\" x=\"1276.5\" y=\"-260.8\">288</text>\n",
       "<text font-family=\"Times New Roman,serif\" font-size=\"14.00\" text-anchor=\"middle\" x=\"1276.5\" y=\"-245.8\">[202.634, 44.5]</text>\n",
       "<text font-family=\"Times New Roman,serif\" font-size=\"14.00\" text-anchor=\"middle\" x=\"1276.5\" y=\"-230.8\">not survive</text>\n",
       "</g>\n",
       "<!-- 30&#45;&gt;31 -->\n",
       "<g class=\"edge\" id=\"edge31\"><title>30-&gt;31</title>\n",
       "<path d=\"M1276.5,-341.907C1276.5,-333.649 1276.5,-324.864 1276.5,-316.302\" fill=\"none\" stroke=\"black\"/>\n",
       "<polygon fill=\"black\" points=\"1280,-316.021 1276.5,-306.021 1273,-316.021 1280,-316.021\" stroke=\"black\"/>\n",
       "</g>\n",
       "<!-- 38 -->\n",
       "<g class=\"node\" id=\"node39\"><title>38</title>\n",
       "<polygon fill=\"#e58139\" fill-opacity=\"0.325490\" points=\"1623.5,-306 1515.5,-306 1515.5,-223 1623.5,-223 1623.5,-306\" stroke=\"black\"/>\n",
       "<text font-family=\"Times New Roman,serif\" font-size=\"14.00\" text-anchor=\"middle\" x=\"1569.5\" y=\"-290.8\">SibSp &lt;= 0.886</text>\n",
       "<text font-family=\"Times New Roman,serif\" font-size=\"14.00\" text-anchor=\"middle\" x=\"1569.5\" y=\"-275.8\">0.972</text>\n",
       "<text font-family=\"Times New Roman,serif\" font-size=\"14.00\" text-anchor=\"middle\" x=\"1569.5\" y=\"-260.8\">102</text>\n",
       "<text font-family=\"Times New Roman,serif\" font-size=\"14.00\" text-anchor=\"middle\" x=\"1569.5\" y=\"-245.8\">[58.009, 39.106]</text>\n",
       "<text font-family=\"Times New Roman,serif\" font-size=\"14.00\" text-anchor=\"middle\" x=\"1569.5\" y=\"-230.8\">not survive</text>\n",
       "</g>\n",
       "<!-- 30&#45;&gt;38 -->\n",
       "<g class=\"edge\" id=\"edge38\"><title>30-&gt;38</title>\n",
       "<path d=\"M1334.04,-359.524C1383.46,-339.789 1454.62,-311.374 1505.76,-290.953\" fill=\"none\" stroke=\"black\"/>\n",
       "<polygon fill=\"black\" points=\"1507.08,-294.196 1515.06,-287.237 1504.48,-287.695 1507.08,-294.196\" stroke=\"black\"/>\n",
       "</g>\n",
       "<!-- 32 -->\n",
       "<g class=\"node\" id=\"node33\"><title>32</title>\n",
       "<polygon fill=\"#399de5\" fill-opacity=\"0.705882\" points=\"1266.5,-187 1156.5,-187 1156.5,-104 1266.5,-104 1266.5,-187\" stroke=\"black\"/>\n",
       "<text font-family=\"Times New Roman,serif\" font-size=\"14.00\" text-anchor=\"middle\" x=\"1211.5\" y=\"-171.8\">SibSp &lt;= -0.021</text>\n",
       "<text font-family=\"Times New Roman,serif\" font-size=\"14.00\" text-anchor=\"middle\" x=\"1211.5\" y=\"-156.8\">0.774</text>\n",
       "<text font-family=\"Times New Roman,serif\" font-size=\"14.00\" text-anchor=\"middle\" x=\"1211.5\" y=\"-141.8\">3</text>\n",
       "<text font-family=\"Times New Roman,serif\" font-size=\"14.00\" text-anchor=\"middle\" x=\"1211.5\" y=\"-126.8\">[0.795, 2.697]</text>\n",
       "<text font-family=\"Times New Roman,serif\" font-size=\"14.00\" text-anchor=\"middle\" x=\"1211.5\" y=\"-111.8\">survived</text>\n",
       "</g>\n",
       "<!-- 31&#45;&gt;32 -->\n",
       "<g class=\"edge\" id=\"edge32\"><title>31-&gt;32</title>\n",
       "<path d=\"M1253.95,-222.907C1249.11,-214.195 1243.94,-204.897 1238.94,-195.893\" fill=\"none\" stroke=\"black\"/>\n",
       "<polygon fill=\"black\" points=\"1241.93,-194.063 1234.01,-187.021 1235.81,-197.462 1241.93,-194.063\" stroke=\"black\"/>\n",
       "</g>\n",
       "<!-- 35 -->\n",
       "<g class=\"node\" id=\"node36\"><title>35</title>\n",
       "<polygon fill=\"#e58139\" fill-opacity=\"0.792157\" points=\"1400,-187 1285,-187 1285,-104 1400,-104 1400,-187\" stroke=\"black\"/>\n",
       "<text font-family=\"Times New Roman,serif\" font-size=\"14.00\" text-anchor=\"middle\" x=\"1342.5\" y=\"-171.8\">Age &lt;= 0.216</text>\n",
       "<text font-family=\"Times New Roman,serif\" font-size=\"14.00\" text-anchor=\"middle\" x=\"1342.5\" y=\"-156.8\">0.661</text>\n",
       "<text font-family=\"Times New Roman,serif\" font-size=\"14.00\" text-anchor=\"middle\" x=\"1342.5\" y=\"-141.8\">285</text>\n",
       "<text font-family=\"Times New Roman,serif\" font-size=\"14.00\" text-anchor=\"middle\" x=\"1342.5\" y=\"-126.8\">[201.839, 41.803]</text>\n",
       "<text font-family=\"Times New Roman,serif\" font-size=\"14.00\" text-anchor=\"middle\" x=\"1342.5\" y=\"-111.8\">not survive</text>\n",
       "</g>\n",
       "<!-- 31&#45;&gt;35 -->\n",
       "<g class=\"edge\" id=\"edge35\"><title>31-&gt;35</title>\n",
       "<path d=\"M1299.4,-222.907C1304.31,-214.195 1309.56,-204.897 1314.64,-195.893\" fill=\"none\" stroke=\"black\"/>\n",
       "<polygon fill=\"black\" points=\"1317.78,-197.45 1319.64,-187.021 1311.68,-194.011 1317.78,-197.45\" stroke=\"black\"/>\n",
       "</g>\n",
       "<!-- 33 -->\n",
       "<g class=\"node\" id=\"node34\"><title>33</title>\n",
       "<polygon fill=\"#e58139\" points=\"1160,-68 1079,-68 1079,-0 1160,-0 1160,-68\" stroke=\"black\"/>\n",
       "<text font-family=\"Times New Roman,serif\" font-size=\"14.00\" text-anchor=\"middle\" x=\"1119.5\" y=\"-52.8\">0.0</text>\n",
       "<text font-family=\"Times New Roman,serif\" font-size=\"14.00\" text-anchor=\"middle\" x=\"1119.5\" y=\"-37.8\">1</text>\n",
       "<text font-family=\"Times New Roman,serif\" font-size=\"14.00\" text-anchor=\"middle\" x=\"1119.5\" y=\"-22.8\">[0.795, 0.0]</text>\n",
       "<text font-family=\"Times New Roman,serif\" font-size=\"14.00\" text-anchor=\"middle\" x=\"1119.5\" y=\"-7.8\">not survive</text>\n",
       "</g>\n",
       "<!-- 32&#45;&gt;33 -->\n",
       "<g class=\"edge\" id=\"edge33\"><title>32-&gt;33</title>\n",
       "<path d=\"M1177.24,-103.726C1169.66,-94.6966 1161.61,-85.1235 1154.02,-76.0816\" fill=\"none\" stroke=\"black\"/>\n",
       "<polygon fill=\"black\" points=\"1156.59,-73.7045 1147.48,-68.2996 1151.23,-78.2075 1156.59,-73.7045\" stroke=\"black\"/>\n",
       "</g>\n",
       "<!-- 34 -->\n",
       "<g class=\"node\" id=\"node35\"><title>34</title>\n",
       "<polygon fill=\"#399de5\" points=\"1259,-68 1178,-68 1178,-0 1259,-0 1259,-68\" stroke=\"black\"/>\n",
       "<text font-family=\"Times New Roman,serif\" font-size=\"14.00\" text-anchor=\"middle\" x=\"1218.5\" y=\"-52.8\">0.0</text>\n",
       "<text font-family=\"Times New Roman,serif\" font-size=\"14.00\" text-anchor=\"middle\" x=\"1218.5\" y=\"-37.8\">2</text>\n",
       "<text font-family=\"Times New Roman,serif\" font-size=\"14.00\" text-anchor=\"middle\" x=\"1218.5\" y=\"-22.8\">[0.0, 2.697]</text>\n",
       "<text font-family=\"Times New Roman,serif\" font-size=\"14.00\" text-anchor=\"middle\" x=\"1218.5\" y=\"-7.8\">survived</text>\n",
       "</g>\n",
       "<!-- 32&#45;&gt;34 -->\n",
       "<g class=\"edge\" id=\"edge34\"><title>32-&gt;34</title>\n",
       "<path d=\"M1214.11,-103.726C1214.64,-95.4263 1215.2,-86.6671 1215.73,-78.2834\" fill=\"none\" stroke=\"black\"/>\n",
       "<polygon fill=\"black\" points=\"1219.23,-78.5025 1216.37,-68.2996 1212.24,-78.0559 1219.23,-78.5025\" stroke=\"black\"/>\n",
       "</g>\n",
       "<!-- 36 -->\n",
       "<g class=\"node\" id=\"node37\"><title>36</title>\n",
       "<polygon fill=\"#e58139\" fill-opacity=\"0.752941\" points=\"1392,-68 1277,-68 1277,-0 1392,-0 1392,-68\" stroke=\"black\"/>\n",
       "<text font-family=\"Times New Roman,serif\" font-size=\"14.00\" text-anchor=\"middle\" x=\"1334.5\" y=\"-52.8\">0.716</text>\n",
       "<text font-family=\"Times New Roman,serif\" font-size=\"14.00\" text-anchor=\"middle\" x=\"1334.5\" y=\"-37.8\">206</text>\n",
       "<text font-family=\"Times New Roman,serif\" font-size=\"14.00\" text-anchor=\"middle\" x=\"1334.5\" y=\"-22.8\">[143.036, 35.061]</text>\n",
       "<text font-family=\"Times New Roman,serif\" font-size=\"14.00\" text-anchor=\"middle\" x=\"1334.5\" y=\"-7.8\">not survive</text>\n",
       "</g>\n",
       "<!-- 35&#45;&gt;36 -->\n",
       "<g class=\"edge\" id=\"edge36\"><title>35-&gt;36</title>\n",
       "<path d=\"M1339.52,-103.726C1338.91,-95.4263 1338.27,-86.6671 1337.66,-78.2834\" fill=\"none\" stroke=\"black\"/>\n",
       "<polygon fill=\"black\" points=\"1341.15,-78.018 1336.93,-68.2996 1334.17,-78.5281 1341.15,-78.018\" stroke=\"black\"/>\n",
       "</g>\n",
       "<!-- 37 -->\n",
       "<g class=\"node\" id=\"node38\"><title>37</title>\n",
       "<polygon fill=\"#e58139\" fill-opacity=\"0.886275\" points=\"1511,-68 1410,-68 1410,-0 1511,-0 1511,-68\" stroke=\"black\"/>\n",
       "<text font-family=\"Times New Roman,serif\" font-size=\"14.00\" text-anchor=\"middle\" x=\"1460.5\" y=\"-52.8\">0.478</text>\n",
       "<text font-family=\"Times New Roman,serif\" font-size=\"14.00\" text-anchor=\"middle\" x=\"1460.5\" y=\"-37.8\">79</text>\n",
       "<text font-family=\"Times New Roman,serif\" font-size=\"14.00\" text-anchor=\"middle\" x=\"1460.5\" y=\"-22.8\">[58.804, 6.742]</text>\n",
       "<text font-family=\"Times New Roman,serif\" font-size=\"14.00\" text-anchor=\"middle\" x=\"1460.5\" y=\"-7.8\">not survive</text>\n",
       "</g>\n",
       "<!-- 35&#45;&gt;37 -->\n",
       "<g class=\"edge\" id=\"edge37\"><title>35-&gt;37</title>\n",
       "<path d=\"M1386.44,-103.726C1396.46,-94.423 1407.11,-84.5428 1417.11,-75.2612\" fill=\"none\" stroke=\"black\"/>\n",
       "<polygon fill=\"black\" points=\"1419.67,-77.6673 1424.62,-68.2996 1414.9,-72.5362 1419.67,-77.6673\" stroke=\"black\"/>\n",
       "</g>\n",
       "<!-- 39 -->\n",
       "<g class=\"node\" id=\"node40\"><title>39</title>\n",
       "<polygon fill=\"#e58139\" fill-opacity=\"0.137255\" points=\"1623.5,-187 1515.5,-187 1515.5,-104 1623.5,-104 1623.5,-187\" stroke=\"black\"/>\n",
       "<text font-family=\"Times New Roman,serif\" font-size=\"14.00\" text-anchor=\"middle\" x=\"1569.5\" y=\"-171.8\">Age &lt;= -0.939</text>\n",
       "<text font-family=\"Times New Roman,serif\" font-size=\"14.00\" text-anchor=\"middle\" x=\"1569.5\" y=\"-156.8\">0.996</text>\n",
       "<text font-family=\"Times New Roman,serif\" font-size=\"14.00\" text-anchor=\"middle\" x=\"1569.5\" y=\"-141.8\">86</text>\n",
       "<text font-family=\"Times New Roman,serif\" font-size=\"14.00\" text-anchor=\"middle\" x=\"1569.5\" y=\"-126.8\">[45.295, 39.106]</text>\n",
       "<text font-family=\"Times New Roman,serif\" font-size=\"14.00\" text-anchor=\"middle\" x=\"1569.5\" y=\"-111.8\">not survive</text>\n",
       "</g>\n",
       "<!-- 38&#45;&gt;39 -->\n",
       "<g class=\"edge\" id=\"edge39\"><title>38-&gt;39</title>\n",
       "<path d=\"M1569.5,-222.907C1569.5,-214.649 1569.5,-205.864 1569.5,-197.302\" fill=\"none\" stroke=\"black\"/>\n",
       "<polygon fill=\"black\" points=\"1573,-197.021 1569.5,-187.021 1566,-197.021 1573,-197.021\" stroke=\"black\"/>\n",
       "</g>\n",
       "<!-- 42 -->\n",
       "<g class=\"node\" id=\"node43\"><title>42</title>\n",
       "<polygon fill=\"#e58139\" points=\"1729.5,-179.5 1641.5,-179.5 1641.5,-111.5 1729.5,-111.5 1729.5,-179.5\" stroke=\"black\"/>\n",
       "<text font-family=\"Times New Roman,serif\" font-size=\"14.00\" text-anchor=\"middle\" x=\"1685.5\" y=\"-164.3\">0.0</text>\n",
       "<text font-family=\"Times New Roman,serif\" font-size=\"14.00\" text-anchor=\"middle\" x=\"1685.5\" y=\"-149.3\">16</text>\n",
       "<text font-family=\"Times New Roman,serif\" font-size=\"14.00\" text-anchor=\"middle\" x=\"1685.5\" y=\"-134.3\">[12.714, 0.0]</text>\n",
       "<text font-family=\"Times New Roman,serif\" font-size=\"14.00\" text-anchor=\"middle\" x=\"1685.5\" y=\"-119.3\">not survive</text>\n",
       "</g>\n",
       "<!-- 38&#45;&gt;42 -->\n",
       "<g class=\"edge\" id=\"edge42\"><title>38-&gt;42</title>\n",
       "<path d=\"M1609.75,-222.907C1621.34,-211.211 1633.99,-198.457 1645.56,-186.78\" fill=\"none\" stroke=\"black\"/>\n",
       "<polygon fill=\"black\" points=\"1648.06,-189.233 1652.62,-179.667 1643.09,-184.304 1648.06,-189.233\" stroke=\"black\"/>\n",
       "</g>\n",
       "<!-- 40 -->\n",
       "<g class=\"node\" id=\"node41\"><title>40</title>\n",
       "<polygon fill=\"#399de5\" points=\"1610,-68 1529,-68 1529,-0 1610,-0 1610,-68\" stroke=\"black\"/>\n",
       "<text font-family=\"Times New Roman,serif\" font-size=\"14.00\" text-anchor=\"middle\" x=\"1569.5\" y=\"-52.8\">0.0</text>\n",
       "<text font-family=\"Times New Roman,serif\" font-size=\"14.00\" text-anchor=\"middle\" x=\"1569.5\" y=\"-37.8\">2</text>\n",
       "<text font-family=\"Times New Roman,serif\" font-size=\"14.00\" text-anchor=\"middle\" x=\"1569.5\" y=\"-22.8\">[0.0, 2.697]</text>\n",
       "<text font-family=\"Times New Roman,serif\" font-size=\"14.00\" text-anchor=\"middle\" x=\"1569.5\" y=\"-7.8\">survived</text>\n",
       "</g>\n",
       "<!-- 39&#45;&gt;40 -->\n",
       "<g class=\"edge\" id=\"edge40\"><title>39-&gt;40</title>\n",
       "<path d=\"M1569.5,-103.726C1569.5,-95.5175 1569.5,-86.8595 1569.5,-78.56\" fill=\"none\" stroke=\"black\"/>\n",
       "<polygon fill=\"black\" points=\"1573,-78.2996 1569.5,-68.2996 1566,-78.2996 1573,-78.2996\" stroke=\"black\"/>\n",
       "</g>\n",
       "<!-- 41 -->\n",
       "<g class=\"node\" id=\"node42\"><title>41</title>\n",
       "<polygon fill=\"#e58139\" fill-opacity=\"0.196078\" points=\"1736.5,-68 1628.5,-68 1628.5,-0 1736.5,-0 1736.5,-68\" stroke=\"black\"/>\n",
       "<text font-family=\"Times New Roman,serif\" font-size=\"14.00\" text-anchor=\"middle\" x=\"1682.5\" y=\"-52.8\">0.991</text>\n",
       "<text font-family=\"Times New Roman,serif\" font-size=\"14.00\" text-anchor=\"middle\" x=\"1682.5\" y=\"-37.8\">84</text>\n",
       "<text font-family=\"Times New Roman,serif\" font-size=\"14.00\" text-anchor=\"middle\" x=\"1682.5\" y=\"-22.8\">[45.295, 36.409]</text>\n",
       "<text font-family=\"Times New Roman,serif\" font-size=\"14.00\" text-anchor=\"middle\" x=\"1682.5\" y=\"-7.8\">not survive</text>\n",
       "</g>\n",
       "<!-- 39&#45;&gt;41 -->\n",
       "<g class=\"edge\" id=\"edge41\"><title>39-&gt;41</title>\n",
       "<path d=\"M1611.58,-103.726C1621.18,-94.423 1631.37,-84.5428 1640.95,-75.2612\" fill=\"none\" stroke=\"black\"/>\n",
       "<polygon fill=\"black\" points=\"1643.39,-77.7721 1648.14,-68.2996 1638.52,-72.7451 1643.39,-77.7721\" stroke=\"black\"/>\n",
       "</g>\n",
       "</g>\n",
       "</svg>"
      ],
      "text/plain": [
       "<IPython.core.display.SVG object>"
      ]
     },
     "metadata": {},
     "output_type": "display_data"
    }
   ],
   "source": [
    "graph = Source(tree.export_graphviz(dtree_mod, out_file=None\n",
    "   , class_names=['not survive', 'survived'],filled = True, label='root', feature_names=label))\n",
    "\n",
    "display(SVG(graph.pipe(format='svg')))"
   ]
  },
  {
   "cell_type": "code",
   "execution_count": 45,
   "metadata": {
    "ExecuteTime": {
     "end_time": "2019-08-24T16:48:22.466815Z",
     "start_time": "2019-08-24T14:30:07.235542Z"
    }
   },
   "outputs": [
    {
     "name": "stdout",
     "output_type": "stream",
     "text": [
      "Best Parameters: {'bootstrap': False, 'max_features': 4, 'max_samples': 0.30000000000000004, 'n_estimators': 28}\n",
      "Best Score: 0.8462401795735129\n"
     ]
    }
   ],
   "source": [
    "from sklearn.ensemble import BaggingClassifier\n",
    "\n",
    "\n",
    "bgcl = BaggingClassifier(base_estimator=Dtree)\n",
    "\n",
    "param_grida = {'n_estimators':np.arange(1, 100, 1), 'max_samples':np.arange(0.1, 1, 0.1),\n",
    "              'max_features':np.arange(2, 6, 1),'bootstrap':(True, False) }\n",
    "\n",
    "optmodel(bgcl, X_opt, y, param_grida, 10)\n"
   ]
  },
  {
   "cell_type": "code",
   "execution_count": 76,
   "metadata": {
    "ExecuteTime": {
     "end_time": "2019-08-24T21:34:52.674657Z",
     "start_time": "2019-08-24T21:34:52.613388Z"
    }
   },
   "outputs": [
    {
     "name": "stdout",
     "output_type": "stream",
     "text": [
      "[[150   7]\n",
      " [ 14  97]]\n",
      "              precision    recall  f1-score   support\n",
      "\n",
      "           0       0.91      0.96      0.93       157\n",
      "           1       0.93      0.87      0.90       111\n",
      "\n",
      "   micro avg       0.92      0.92      0.92       268\n",
      "   macro avg       0.92      0.91      0.92       268\n",
      "weighted avg       0.92      0.92      0.92       268\n",
      "\n",
      "0.9146439433063637\n"
     ]
    }
   ],
   "source": [
    "bgcl1 = BaggingClassifier(base_estimator=Dtree, bootstrap=False, max_features=6, max_samples=0.4, \n",
    "                          n_estimators=28)\n",
    "bgcl1 = bgcl1.fit(X_opt, y)\n",
    "pred_ens = bgcl1.predict(Xd_test)\n",
    "print(confusion_matrix(yd_test,pred_ens))\n",
    "print(classification_report(yd_test,pred_ens))\n",
    "print(roc_auc_score(yd_test,pred_ens))"
   ]
  },
  {
   "cell_type": "code",
   "execution_count": 88,
   "metadata": {
    "ExecuteTime": {
     "end_time": "2019-08-29T17:33:49.926864Z",
     "start_time": "2019-08-29T17:33:49.779257Z"
    }
   },
   "outputs": [
    {
     "name": "stdout",
     "output_type": "stream",
     "text": [
      "[[123  34]\n",
      " [ 35  76]]\n",
      "              precision    recall  f1-score   support\n",
      "\n",
      "           0       0.78      0.78      0.78       157\n",
      "           1       0.69      0.68      0.69       111\n",
      "\n",
      "   micro avg       0.74      0.74      0.74       268\n",
      "   macro avg       0.73      0.73      0.73       268\n",
      "weighted avg       0.74      0.74      0.74       268\n",
      "\n",
      "0.7340620875652724\n"
     ]
    }
   ],
   "source": [
    "from imblearn.over_sampling import SMOTE\n",
    "\n",
    "sm = SMOTE(sampling_strategy=1.0, random_state=42)\n",
    "\n",
    "Xs_train, ys_train = sm.fit_sample(Xd_train, yd_train)\n",
    "\n",
    "\n",
    "daMod = AdaBoostClassifier(base_estimator=Dtree, learning_rate=0.001,n_estimators=50)\n",
    "\n",
    "daMod = daMod.fit(Xs_train, ys_train)\n",
    "\n",
    "pred_ad = daMod.predict(Xd_test)\n",
    "print(confusion_matrix(yd_test,pred_ad))\n",
    "print(classification_report(yd_test,pred_ad))\n",
    "print(roc_auc_score(yd_test,pred_ad))\n",
    "\n"
   ]
  },
  {
   "cell_type": "code",
   "execution_count": 86,
   "metadata": {
    "ExecuteTime": {
     "end_time": "2019-08-29T17:18:46.671963Z",
     "start_time": "2019-08-29T17:16:41.888466Z"
    }
   },
   "outputs": [
    {
     "name": "stdout",
     "output_type": "stream",
     "text": [
      "Best Parameters: {'learning_rate': 0.001, 'n_estimators': 18}\n",
      "Best Score: 0.8239795918367347\n"
     ]
    }
   ],
   "source": [
    "from sklearn.ensemble import AdaBoostClassifier, GradientBoostingClassifier\n",
    "\n",
    "adaMod = AdaBoostClassifier(base_estimator=Dtree)\n",
    "\n",
    "param_gridA = {'n_estimators':np.arange(1,100,1), 'learning_rate':np.arange(0.001, 1, 10)}\n",
    "\n",
    "optmodel(adaMod, Xs_train, ys_train, param_gridA, 10)"
   ]
  },
  {
   "cell_type": "code",
   "execution_count": 85,
   "metadata": {
    "ExecuteTime": {
     "end_time": "2019-08-29T17:09:16.890892Z",
     "start_time": "2019-08-29T17:09:16.728327Z"
    }
   },
   "outputs": [
    {
     "name": "stdout",
     "output_type": "stream",
     "text": [
      "[[132  25]\n",
      " [ 35  76]]\n",
      "              precision    recall  f1-score   support\n",
      "\n",
      "           0       0.79      0.84      0.81       157\n",
      "           1       0.75      0.68      0.72       111\n",
      "\n",
      "   micro avg       0.78      0.78      0.78       268\n",
      "   macro avg       0.77      0.76      0.77       268\n",
      "weighted avg       0.77      0.78      0.77       268\n",
      "\n",
      "0.762724507947438\n"
     ]
    }
   ],
   "source": [
    "adaMod = AdaBoostClassifier(base_estimator=Dtree, learning_rate=0.001,n_estimators=50)\n",
    "\n",
    "adaMod = adaMod.fit(Xd_train, yd_train)\n",
    "\n",
    "pred_ada = adaMod.predict(Xd_test)\n",
    "print(confusion_matrix(yd_test,pred_ada))\n",
    "print(classification_report(yd_test,pred_ada))\n",
    "print(roc_auc_score(yd_test,pred_ada))\n"
   ]
  },
  {
   "cell_type": "code",
   "execution_count": null,
   "metadata": {},
   "outputs": [],
   "source": []
  }
 ],
 "metadata": {
  "kernelspec": {
   "display_name": "Python 3",
   "language": "python",
   "name": "python3"
  },
  "language_info": {
   "codemirror_mode": {
    "name": "ipython",
    "version": 3
   },
   "file_extension": ".py",
   "mimetype": "text/x-python",
   "name": "python",
   "nbconvert_exporter": "python",
   "pygments_lexer": "ipython3",
   "version": "3.7.3"
  },
  "toc": {
   "base_numbering": 1,
   "nav_menu": {},
   "number_sections": true,
   "sideBar": true,
   "skip_h1_title": false,
   "title_cell": "Table of Contents",
   "title_sidebar": "Contents",
   "toc_cell": false,
   "toc_position": {},
   "toc_section_display": true,
   "toc_window_display": false
  },
  "varInspector": {
   "cols": {
    "lenName": 16,
    "lenType": 16,
    "lenVar": 40
   },
   "kernels_config": {
    "python": {
     "delete_cmd_postfix": "",
     "delete_cmd_prefix": "del ",
     "library": "var_list.py",
     "varRefreshCmd": "print(var_dic_list())"
    },
    "r": {
     "delete_cmd_postfix": ") ",
     "delete_cmd_prefix": "rm(",
     "library": "var_list.r",
     "varRefreshCmd": "cat(var_dic_list()) "
    }
   },
   "types_to_exclude": [
    "module",
    "function",
    "builtin_function_or_method",
    "instance",
    "_Feature"
   ],
   "window_display": false
  }
 },
 "nbformat": 4,
 "nbformat_minor": 2
}
